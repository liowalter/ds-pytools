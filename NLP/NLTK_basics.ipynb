{
 "cells": [
  {
   "cell_type": "markdown",
   "metadata": {},
   "source": [
    "# Natural Language Toolkit Basics\n",
    "\n",
    "Initial steps in Natural Language Toolkit (NLTK) https://www.nltk.org\n",
    "\n",
    "NLTK is a very useful package for natural language processing. A short and simple example text ist used here to show some basic functionalities of NLTK, including tokenization, stemming, tagging and vocabulary analysis."
   ]
  },
  {
   "cell_type": "markdown",
   "metadata": {},
   "source": [
    "Required packages and installation:\n",
    "\n",
    "     conda install nltk -c conda-forge\n",
    " \n",
    "     Once NLTK is installed, download Wordnet using the Python shell:\n",
    "     \n",
    "         #python\n",
    "         import nltk\n",
    "         nltk.download('wordnet')"
   ]
  },
  {
   "cell_type": "markdown",
   "metadata": {},
   "source": [
    "#### Check python version and import required modules"
   ]
  },
  {
   "cell_type": "code",
   "execution_count": 1,
   "metadata": {},
   "outputs": [
    {
     "name": "stdout",
     "output_type": "stream",
     "text": [
      "Python version =  3.9.5 (default, Jun  4 2021, 12:28:51) \n",
      "[GCC 7.5.0]\n"
     ]
    }
   ],
   "source": [
    "# Check python version for reproducibility\n",
    "import sys\n",
    "print(\"Python version = \", sys.version)"
   ]
  },
  {
   "cell_type": "code",
   "execution_count": 2,
   "metadata": {},
   "outputs": [],
   "source": [
    "# import required packages\n",
    "import nltk"
   ]
  },
  {
   "cell_type": "markdown",
   "metadata": {},
   "source": [
    "## 1.) Tokenize text\n",
    "\n",
    "Text can be split into words or sentences using different tokenization functions and inclusion/exclusion patterns.\n",
    "\n",
    "We start by defining an example text which will be used for all the functions below."
   ]
  },
  {
   "cell_type": "code",
   "execution_count": 3,
   "metadata": {},
   "outputs": [],
   "source": [
    "# Example text\n",
    "ex_txt = \"\"\"1 raven, 2 ravens, 3 ravens, 4 ravens. Ravens have spread across the country. They move like a dark cloud in the dark sky.\"\"\""
   ]
  },
  {
   "cell_type": "code",
   "execution_count": 4,
   "metadata": {},
   "outputs": [
    {
     "name": "stdout",
     "output_type": "stream",
     "text": [
      "1 raven, 2 ravens, 3 ravens, 4 ravens. Ravens have spread across the country. They move like a dark cloud in the dark sky.\n"
     ]
    }
   ],
   "source": [
    "print(ex_txt)"
   ]
  },
  {
   "cell_type": "markdown",
   "metadata": {},
   "source": [
    "### 1.1 Tokenize into words\n",
    "\n",
    "Most basic tokenization yielding words and punctuation of the text "
   ]
  },
  {
   "cell_type": "code",
   "execution_count": 5,
   "metadata": {},
   "outputs": [],
   "source": [
    "# tokenize\n",
    "w_tokens = nltk.word_tokenize(ex_txt)"
   ]
  },
  {
   "cell_type": "code",
   "execution_count": 6,
   "metadata": {},
   "outputs": [
    {
     "name": "stdout",
     "output_type": "stream",
     "text": [
      "['1', 'raven', ',', '2', 'ravens', ',', '3', 'ravens', ',', '4', 'ravens', '.', 'Ravens', 'have', 'spread', 'across', 'the', 'country', '.', 'They', 'move', 'like', 'a', 'dark', 'cloud', 'in', 'the', 'dark', 'sky', '.']\n"
     ]
    }
   ],
   "source": [
    "# print all tokens\n",
    "print(w_tokens)"
   ]
  },
  {
   "cell_type": "code",
   "execution_count": 7,
   "metadata": {},
   "outputs": [
    {
     "name": "stdout",
     "output_type": "stream",
     "text": [
      "have\n"
     ]
    }
   ],
   "source": [
    "# print token at specific position\n",
    "print(w_tokens[13])"
   ]
  },
  {
   "cell_type": "markdown",
   "metadata": {},
   "source": [
    "### 1.2 Tokenize into words excluding or including specific patterns\n",
    "\n",
    "The regexp tokenizer can be used to include or exclude specific patterns, e.g. punctuation, digits e.t.c.\n",
    "\n",
    "##### Example a): define pattern for excluding punctuation"
   ]
  },
  {
   "cell_type": "code",
   "execution_count": 8,
   "metadata": {},
   "outputs": [],
   "source": [
    "# define pattern:\n",
    "pat = r'\\w+'"
   ]
  },
  {
   "cell_type": "code",
   "execution_count": 9,
   "metadata": {},
   "outputs": [],
   "source": [
    "# initialize tokenizer with pattern\n",
    "r_tokenizer = nltk.RegexpTokenizer(pat)\n",
    "# tokenize with specified pattern\n",
    "r1_tokens = r_tokenizer.tokenize(ex_txt)"
   ]
  },
  {
   "cell_type": "code",
   "execution_count": 10,
   "metadata": {},
   "outputs": [
    {
     "name": "stdout",
     "output_type": "stream",
     "text": [
      "['1', 'raven', '2', 'ravens', '3', 'ravens', '4', 'ravens', 'Ravens', 'have', 'spread', 'across', 'the', 'country', 'They', 'move', 'like', 'a', 'dark', 'cloud', 'in', 'the', 'dark', 'sky']\n"
     ]
    }
   ],
   "source": [
    "print(r1_tokens)"
   ]
  },
  {
   "cell_type": "markdown",
   "metadata": {},
   "source": [
    "###### Example b): define pattern for finding digits"
   ]
  },
  {
   "cell_type": "code",
   "execution_count": 11,
   "metadata": {},
   "outputs": [],
   "source": [
    "# define pattern\n",
    "pat = r'\\d+'"
   ]
  },
  {
   "cell_type": "code",
   "execution_count": 12,
   "metadata": {},
   "outputs": [],
   "source": [
    "# initialize tokenizer with pattern\n",
    "r_tokenizer = nltk.RegexpTokenizer(pat)\n",
    "# tokenize with specified pattern\n",
    "r2_tokens = r_tokenizer.tokenize(ex_txt)"
   ]
  },
  {
   "cell_type": "code",
   "execution_count": 13,
   "metadata": {},
   "outputs": [
    {
     "name": "stdout",
     "output_type": "stream",
     "text": [
      "['1', '2', '3', '4']\n"
     ]
    }
   ],
   "source": [
    "print(r2_tokens)"
   ]
  },
  {
   "cell_type": "markdown",
   "metadata": {},
   "source": [
    "### 1.3 Tokenize into sentences\n",
    "\n",
    "Split the text into its sentences"
   ]
  },
  {
   "cell_type": "code",
   "execution_count": 14,
   "metadata": {},
   "outputs": [],
   "source": [
    "# tokenize \n",
    "s_tokens = nltk.sent_tokenize(ex_txt)"
   ]
  },
  {
   "cell_type": "code",
   "execution_count": 15,
   "metadata": {},
   "outputs": [
    {
     "name": "stdout",
     "output_type": "stream",
     "text": [
      "['1 raven, 2 ravens, 3 ravens, 4 ravens.', 'Ravens have spread across the country.', 'They move like a dark cloud in the dark sky.']\n"
     ]
    }
   ],
   "source": [
    "print(s_tokens)"
   ]
  },
  {
   "cell_type": "markdown",
   "metadata": {},
   "source": [
    "## 2.) Lemmatization and stemming\n",
    "\n",
    "Lemmatizations and stemming are processes of linguistic normalization.\n",
    "\n",
    "#### Stemming: reducing words to their root word"
   ]
  },
  {
   "cell_type": "code",
   "execution_count": 16,
   "metadata": {},
   "outputs": [],
   "source": [
    "# define stemmer\n",
    "ps = nltk.stem.PorterStemmer()"
   ]
  },
  {
   "cell_type": "code",
   "execution_count": 17,
   "metadata": {},
   "outputs": [],
   "source": [
    "# stem each word in the tokenized text \"r1_tokens\" defined in Section 1.2\n",
    "stemmed_words=[]\n",
    "for w in r1_tokens:\n",
    "    stemmed_words.append(ps.stem(w))"
   ]
  },
  {
   "cell_type": "code",
   "execution_count": 18,
   "metadata": {},
   "outputs": [
    {
     "name": "stdout",
     "output_type": "stream",
     "text": [
      "Stemmed Sentence: ['1', 'raven', '2', 'raven', '3', 'raven', '4', 'raven', 'raven', 'have', 'spread', 'across', 'the', 'countri', 'they', 'move', 'like', 'a', 'dark', 'cloud', 'in', 'the', 'dark', 'sky']\n"
     ]
    }
   ],
   "source": [
    "print(\"Stemmed Sentence:\",stemmed_words)"
   ]
  },
  {
   "cell_type": "markdown",
   "metadata": {},
   "source": [
    "#### Lemmatization: reduce words to linguistically correct lemmas with the use of vocabulary and morphological analysis\n",
    "(More sophisticated than stemming)"
   ]
  },
  {
   "cell_type": "code",
   "execution_count": 19,
   "metadata": {},
   "outputs": [],
   "source": [
    "lem = nltk.stem.wordnet.WordNetLemmatizer()"
   ]
  },
  {
   "cell_type": "code",
   "execution_count": 20,
   "metadata": {},
   "outputs": [],
   "source": [
    "stem = nltk.stem.porter.PorterStemmer()"
   ]
  },
  {
   "cell_type": "code",
   "execution_count": 21,
   "metadata": {},
   "outputs": [
    {
     "name": "stdout",
     "output_type": "stream",
     "text": [
      "Stemmed Word: fli\n",
      "Lemmatized Word: fly\n"
     ]
    }
   ],
   "source": [
    "# simple comparison of stemming and lemmatization with one word\n",
    "word = \"flying\"\n",
    "print(\"Stemmed Word:\",stem.stem(word))\n",
    "print(\"Lemmatized Word:\",lem.lemmatize(word,\"v\"))"
   ]
  },
  {
   "cell_type": "code",
   "execution_count": 22,
   "metadata": {},
   "outputs": [],
   "source": [
    "# Example for each word in the tokenized text \"r1_tokens\" defined in Section 1.2\n",
    "lem_words=[]\n",
    "for w in r1_tokens:\n",
    "    lem_words.append(lem.lemmatize(w,\"v\"))"
   ]
  },
  {
   "cell_type": "code",
   "execution_count": 23,
   "metadata": {},
   "outputs": [
    {
     "name": "stdout",
     "output_type": "stream",
     "text": [
      "Lemmatized sentence: ['1', 'raven', '2', 'raven', '3', 'raven', '4', 'raven', 'Ravens', 'have', 'spread', 'across', 'the', 'country', 'They', 'move', 'like', 'a', 'dark', 'cloud', 'in', 'the', 'dark', 'sky']\n"
     ]
    }
   ],
   "source": [
    "print(\"Lemmatized sentence:\",lem_words)"
   ]
  },
  {
   "cell_type": "markdown",
   "metadata": {},
   "source": [
    "## 3.) Tag token positions\n",
    "\n",
    "Mark the words in the text for a particular part of a speech based on definition and context. Detailed explanation of tag abbreviations: https://www.guru99.com/pos-tagging-chunking-nltk.html"
   ]
  },
  {
   "cell_type": "code",
   "execution_count": 24,
   "metadata": {},
   "outputs": [],
   "source": [
    "# taggin ght tokenized sentence from Section 1.1\n",
    "tagged = nltk.pos_tag(w_tokens)"
   ]
  },
  {
   "cell_type": "code",
   "execution_count": 25,
   "metadata": {},
   "outputs": [
    {
     "name": "stdout",
     "output_type": "stream",
     "text": [
      "[('1', 'CD'), ('raven', 'NN'), (',', ','), ('2', 'CD'), ('ravens', 'NNS'), (',', ','), ('3', 'CD'), ('ravens', 'NNS'), (',', ','), ('4', 'CD'), ('ravens', 'NNS'), ('.', '.'), ('Ravens', 'NNS'), ('have', 'VBP'), ('spread', 'VBN'), ('across', 'IN'), ('the', 'DT'), ('country', 'NN'), ('.', '.'), ('They', 'PRP'), ('move', 'VBP'), ('like', 'IN'), ('a', 'DT'), ('dark', 'JJ'), ('cloud', 'NN'), ('in', 'IN'), ('the', 'DT'), ('dark', 'NN'), ('sky', 'NN'), ('.', '.')]\n"
     ]
    }
   ],
   "source": [
    "print(tagged)"
   ]
  },
  {
   "cell_type": "code",
   "execution_count": 26,
   "metadata": {},
   "outputs": [
    {
     "data": {
      "text/plain": [
       "[(',', ','),\n",
       " ('3', 'CD'),\n",
       " ('ravens', 'NNS'),\n",
       " (',', ','),\n",
       " ('4', 'CD'),\n",
       " ('ravens', 'NNS'),\n",
       " ('.', '.'),\n",
       " ('Ravens', 'NNS'),\n",
       " ('have', 'VBP'),\n",
       " ('spread', 'VBN')]"
      ]
     },
     "execution_count": 26,
     "metadata": {},
     "output_type": "execute_result"
    }
   ],
   "source": [
    "tagged[5:15]"
   ]
  },
  {
   "cell_type": "code",
   "execution_count": 27,
   "metadata": {},
   "outputs": [],
   "source": [
    "entities = nltk.chunk.ne_chunk(tagged[0:10])"
   ]
  },
  {
   "cell_type": "code",
   "execution_count": 28,
   "metadata": {},
   "outputs": [
    {
     "data": {
      "image/png": "[encoded data removed]",
      "text/plain": [
       "Tree('S', [('1', 'CD'), ('raven', 'NN'), (',', ','), ('2', 'CD'), ('ravens', 'NNS'), (',', ','), ('3', 'CD'), ('ravens', 'NNS'), (',', ','), ('4', 'CD')])"
      ]
     },
     "execution_count": 28,
     "metadata": {},
     "output_type": "execute_result"
    }
   ],
   "source": [
    "entities"
   ]
  },
  {
   "cell_type": "code",
   "execution_count": 29,
   "metadata": {},
   "outputs": [
    {
     "data": {
      "image/png": "[encoded data removed]",
      "text/plain": [
       "Tree('S', [Tree('NP', ['Ravens']), Tree('VP', [Tree('V', ['are']), Tree('AdjP', ['black'])])])"
      ]
     },
     "execution_count": 29,
     "metadata": {},
     "output_type": "execute_result"
    }
   ],
   "source": [
    "# nicer tree drawing possible with formatting\n",
    "nltk.Tree.fromstring('(S (NP Ravens) (VP (V are) (AdjP black)))')"
   ]
  },
  {
   "cell_type": "markdown",
   "metadata": {},
   "source": [
    "## 4.) Analyze vocabulary\n",
    "\n",
    "NLTK can be used to analyze the vocabulary of texts. Some simple options include finding concordance in the text, counting word occurrences and calculating word frequencies. \n",
    "\n",
    "Example text: lemmatized example \"lem_words\" defined above in Section 2."
   ]
  },
  {
   "cell_type": "code",
   "execution_count": 30,
   "metadata": {},
   "outputs": [],
   "source": [
    "# Create text object \"lem_text\" here using \"lem_words\"\n",
    "lem_text = nltk.Text(lem_words)"
   ]
  },
  {
   "cell_type": "markdown",
   "metadata": {},
   "source": [
    "#### Text concordance"
   ]
  },
  {
   "cell_type": "code",
   "execution_count": 31,
   "metadata": {},
   "outputs": [
    {
     "name": "stdout",
     "output_type": "stream",
     "text": [
      "Displaying 4 of 4 matches:\n",
      "1 raven 2 raven 3 raven 4 raven Ravens have \n",
      "1 raven 2 raven 3 raven 4 raven Ravens have spread a\n",
      "1 raven 2 raven 3 raven 4 raven Ravens have spread across th\n",
      "1 raven 2 raven 3 raven 4 raven Ravens have spread across the countr\n"
     ]
    }
   ],
   "source": [
    "# Analyze and print the concordances in the text\n",
    "lem_text.concordance('raven')"
   ]
  },
  {
   "cell_type": "markdown",
   "metadata": {},
   "source": [
    "#### Count the occurrences of specific words"
   ]
  },
  {
   "cell_type": "code",
   "execution_count": 32,
   "metadata": {},
   "outputs": [
    {
     "name": "stdout",
     "output_type": "stream",
     "text": [
      "Number of word occcurrences =  4\n"
     ]
    }
   ],
   "source": [
    "# example word: 'ravens'\n",
    "ex_word = 'raven'\n",
    "print(\"Number of word occcurrences = \", lem_text.count(ex_word))"
   ]
  },
  {
   "cell_type": "code",
   "execution_count": 33,
   "metadata": {},
   "outputs": [
    {
     "name": "stdout",
     "output_type": "stream",
     "text": [
      "Number of word occcurrences =  2\n"
     ]
    }
   ],
   "source": [
    "# example word: 'the'\n",
    "ex_word = 'the'\n",
    "print(\"Number of word occcurrences = \", lem_text.count(ex_word))"
   ]
  },
  {
   "cell_type": "markdown",
   "metadata": {},
   "source": [
    "#### Analyze vocabulary and get word counts and frequencies"
   ]
  },
  {
   "cell_type": "code",
   "execution_count": 34,
   "metadata": {},
   "outputs": [],
   "source": [
    "# initialize vocabulary object for r1_text\n",
    "vocabulary = lem_text.vocab()"
   ]
  },
  {
   "cell_type": "code",
   "execution_count": 35,
   "metadata": {},
   "outputs": [
    {
     "name": "stdout",
     "output_type": "stream",
     "text": [
      "dict_items([('1', 1), ('raven', 4), ('2', 1), ('3', 1), ('4', 1), ('Ravens', 1), ('have', 1), ('spread', 1), ('across', 1), ('the', 2), ('country', 1), ('They', 1), ('move', 1), ('like', 1), ('a', 1), ('dark', 2), ('cloud', 1), ('in', 1), ('sky', 1)])\n"
     ]
    }
   ],
   "source": [
    "# print all items in the vocabulary (i.e. all words and their frequencies)\n",
    "print(vocabulary.items())"
   ]
  },
  {
   "cell_type": "code",
   "execution_count": 36,
   "metadata": {},
   "outputs": [
    {
     "data": {
      "text/plain": [
       "0.08333333333333333"
      ]
     },
     "execution_count": 36,
     "metadata": {},
     "output_type": "execute_result"
    }
   ],
   "source": [
    "# get the frequency of the word \"the\"\n",
    "vocabulary.freq('the')"
   ]
  },
  {
   "cell_type": "code",
   "execution_count": 37,
   "metadata": {},
   "outputs": [
    {
     "data": {
      "text/plain": [
       "2"
      ]
     },
     "execution_count": 37,
     "metadata": {},
     "output_type": "execute_result"
    }
   ],
   "source": [
    "# get the occurrence of the word \"the\"\n",
    "vocabulary['the']"
   ]
  },
  {
   "cell_type": "code",
   "execution_count": 38,
   "metadata": {},
   "outputs": [
    {
     "name": "stdout",
     "output_type": "stream",
     "text": [
      "Most common word = raven\n"
     ]
    }
   ],
   "source": [
    "# find out the most common word of the text\n",
    "print(\"Most common word =\", vocabulary.max())"
   ]
  },
  {
   "cell_type": "code",
   "execution_count": 39,
   "metadata": {},
   "outputs": [
    {
     "data": {
      "text/plain": [
       "[('raven', 4),\n",
       " ('the', 2),\n",
       " ('dark', 2),\n",
       " ('1', 1),\n",
       " ('2', 1),\n",
       " ('3', 1),\n",
       " ('4', 1),\n",
       " ('Ravens', 1),\n",
       " ('have', 1),\n",
       " ('spread', 1),\n",
       " ('across', 1),\n",
       " ('country', 1),\n",
       " ('They', 1),\n",
       " ('move', 1),\n",
       " ('like', 1),\n",
       " ('a', 1),\n",
       " ('cloud', 1),\n",
       " ('in', 1),\n",
       " ('sky', 1)]"
      ]
     },
     "execution_count": 39,
     "metadata": {},
     "output_type": "execute_result"
    }
   ],
   "source": [
    "# sort the vocabulary according to the word occurrences\n",
    "vocabulary.most_common()"
   ]
  },
  {
   "cell_type": "code",
   "execution_count": null,
   "metadata": {},
   "outputs": [],
   "source": []
  }
 ],
 "metadata": {
  "kernelspec": {
   "display_name": "Python 3",
   "language": "python",
   "name": "python3"
  },
  "language_info": {
   "codemirror_mode": {
    "name": "ipython",
    "version": 3
   },
   "file_extension": ".py",
   "mimetype": "text/x-python",
   "name": "python",
   "nbconvert_exporter": "python",
   "pygments_lexer": "ipython3",
   "version": "3.9.5"
  }
 },
 "nbformat": 4,
 "nbformat_minor": 2
}
