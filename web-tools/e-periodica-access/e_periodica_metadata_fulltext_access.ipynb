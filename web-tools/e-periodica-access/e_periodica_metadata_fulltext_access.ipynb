{
 "cells": [
  {
   "cell_type": "markdown",
   "metadata": {},
   "source": [
    "# e-periodica: acessing metadata and fulltexts"
   ]
  },
  {
   "cell_type": "markdown",
   "metadata": {
    "toc": true
   },
   "source": [
    "<h1><span class=\"tocSkip\"></span></h1>\n",
    "<div class=\"toc\"><ul class=\"toc-item\"><li><span><a href=\"#0-Introduction\" data-toc-modified-id=\"0-Introduction-0\">0 Introduction</a></span><ul class=\"toc-item\"><li><span><a href=\"#0.0-Scope-and-content\" data-toc-modified-id=\"0.0-Scope-and-content-0.1\">0.0 Scope and content</a></span></li><li><span><a href=\"#0.1-E-periodica\" data-toc-modified-id=\"0.1-E-periodica-0.2\">0.1 E-periodica</a></span></li><li><span><a href=\"#0.2-OAI-PMH\" data-toc-modified-id=\"0.2-OAI-PMH-0.3\">0.2 OAI-PMH</a></span></li></ul></li><li><span><a href=\"#1-Metadata-access-with-Polymatheia\" data-toc-modified-id=\"1-Metadata-access-with-Polymatheia-1\">1 Metadata access with Polymatheia</a></span><ul class=\"toc-item\"><li><span><a href=\"#1.0-Prerequisites\" data-toc-modified-id=\"1.0-Prerequisites-1.1\">1.0 Prerequisites</a></span></li><li><span><a href=\"#1.1-Start-with-the-OAI-interface-via-Polymatheia\" data-toc-modified-id=\"1.1-Start-with-the-OAI-interface-via-Polymatheia-1.2\">1.1 Start with the OAI interface via Polymatheia</a></span></li><li><span><a href=\"#1.2-Retrieve-metadata-records-via-Polymatheia\" data-toc-modified-id=\"1.2-Retrieve-metadata-records-via-Polymatheia-1.3\">1.2 Retrieve metadata records via Polymatheia</a></span></li><li><span><a href=\"#1.3-Save--and-recover-complex-metadata-structures\" data-toc-modified-id=\"1.3-Save--and-recover-complex-metadata-structures-1.4\">1.3 Save  and recover complex metadata structures</a></span></li></ul></li><li><span><a href=\"#2-Direct-metadata-access-via-OAI-PMH\" data-toc-modified-id=\"2-Direct-metadata-access-via-OAI-PMH-2\">2 Direct metadata access via OAI-PMH</a></span><ul class=\"toc-item\"><li><span><a href=\"#2.0-Prerequisites\" data-toc-modified-id=\"2.0-Prerequisites-2.1\">2.0 Prerequisites</a></span></li><li><span><a href=\"#2.1-Start-with-the-native-OAI-interface\" data-toc-modified-id=\"2.1-Start-with-the-native-OAI-interface-2.2\">2.1 Start with the native OAI interface</a></span></li><li><span><a href=\"#2.2--Download-metadata-records\" data-toc-modified-id=\"2.2--Download-metadata-records-2.3\">2.2  Download metadata records</a></span></li><li><span><a href=\"#2.3-Download-metadata-by-set\" data-toc-modified-id=\"2.3-Download-metadata-by-set-2.4\">2.3 Download metadata by set</a></span></li></ul></li><li><span><a href=\"#3-Download-fulltext-files-from-e-periodica-website\" data-toc-modified-id=\"3-Download-fulltext-files-from-e-periodica-website-3\">3 Download fulltext files from e-periodica website</a></span><ul class=\"toc-item\"><li><span><a href=\"#3.0-Prerequisites\" data-toc-modified-id=\"3.0-Prerequisites-3.1\">3.0 Prerequisites</a></span></li><li><span><a href=\"#3.1-Download-fulltext-files-by-e-periodica-ID\" data-toc-modified-id=\"3.1-Download-fulltext-files-by-e-periodica-ID-3.2\">3.1 Download fulltext files by e-periodica ID</a></span></li><li><span><a href=\"#3.2-Download-fulltext-files-by-set\" data-toc-modified-id=\"3.2-Download-fulltext-files-by-set-3.3\">3.2 Download fulltext files by set</a></span></li></ul></li></ul></div>"
   ]
  },
  {
   "cell_type": "markdown",
   "metadata": {},
   "source": [
    "## 0 Introduction"
   ]
  },
  {
   "cell_type": "markdown",
   "metadata": {},
   "source": [
    "### 0.0 Scope and content"
   ]
  },
  {
   "cell_type": "markdown",
   "metadata": {},
   "source": [
    "This Python [Jupyter notebook](https://jupyter.org/) aims to help you with **accessing metadata and fulltexts of the [e-periodica platform](https://www.e-periodica.ch/)**. It uses the OAI-PMH interface of the e-periodica service for retrieving metadata in different formats, and the e-rara website in addition for downloading fulltexts.\n",
    "\n",
    "The notebook consists of three parts:\n",
    "1. Metadata access with Polymatheia\n",
    "2. Direct metadata access via OAI-PMH\n",
    "3. Download fulltext files from e-periodica website.\n",
    "\n",
    "So, there are two ways to access e-periodica metadata. The **first chapter** introduces the Polymatheia library, which allows very convenient requests to the OAI interface by wrapping otherwise more elaborate functions. Working with Polymatheia is an **easy solution for quick access** without going deep into coding.\n",
    "\n",
    "The **second (and the third) chapter** shows how to access the OAI interface natively. Hence, more code will be needed and **some functions will be defined**. You can use the functions without deeper programming skills - nevertheless these might be helpful if you want to adapt those functions.\n",
    "\n",
    "You may start from the beginning and walk trough the whole notebook or jump to the section that suits you. Also, it's a good idea to play around with the code in the cells and see what happens. Have fun!\n",
    "\n",
    "Have any comments, questions and the like? Try kathi.woitas[at]ub.unibe.ch."
   ]
  },
  {
   "cell_type": "markdown",
   "metadata": {},
   "source": [
    "### 0.1 E-periodica"
   ]
  },
  {
   "cell_type": "markdown",
   "metadata": {},
   "source": [
    "[E-periodica](https://www.e-periodica.ch/?lang=en) is the online platform for journals from Switzerland. It holds more than 500 freely accessible journals from the 18th century through to the present, covering subjects from natural sciences through architecture, mathematics, history, geography, art and culture to the environment and social policies. You may consult e-periodica's [Terms of Use](https://www.e-periodica.ch/digbib/about3?lang=en) to check the licences of the e-periodica documents."
   ]
  },
  {
   "cell_type": "markdown",
   "metadata": {},
   "source": [
    "### 0.2 OAI-PMH"
   ]
  },
  {
   "cell_type": "markdown",
   "metadata": {},
   "source": [
    "The **Open Archives Initiative Protocol for Metadata Harvesting** (**OAI-PMH**) is a well-known interface for libraries,\n",
    "archives etc. for delivering their metadata in various formats - librarian's specific like *[MODS](http://www.loc.gov/standards/mods/index.html)* and common ones like *[Dublin Core](https://www.dublincore.org/specifications/dublin-core/dces/)* alike.\n",
    "Further information on OAI-PMH is available [here](http://www.openarchives.org/OAI/openarchivesprotocol.html).\n",
    "\n",
    "First of all, a few OAI-PMH related concepts should be introduced:\n",
    "\n",
    "**repository**:\n",
    "A repository is a server-side application that exposes metadata via OAI-PMH. It can process the *six OAI-PMH request types* aka *OAI verbs*. So, the e-periodica OAI-PMH facility is a repository in this sense. \n",
    "\n",
    "**harvester**: OAI-PMH client applications are called harvesters. When you are approaching the OAI-PMH interface and requesting records, you do *harvesting*.\n",
    "\n",
    "**resource**: A resource is the object that the delivered metadata is \"about\". Of course in case of e-periodica OAI-PMH, the referred resources are the publications of the e-periodica platform. Note that resources themselves are always outside of the OAI-PMH.\n",
    "\n",
    "**record**: A record is the XML-encoded container for the metadata of a single resource (i.e. publication) item. It consists of a header and a metadata section.\n",
    "\n",
    "**header**:\n",
    "The record header contains the unique identifier of the record, a datestamp and optionally the set specification.\n",
    "\n",
    "**metadata**: The record metadata contains the resource (i.e. publication) metadata in a defined metadata format.\n",
    "\n",
    "**set**: A structure for grouping records for selective harvesting. Sets often refer to collections of thematic scopes/subjects, to collections of different owners/institutions (in case of aggregated content) or to collections of certain publication types.\n",
    "\n",
    "Now let's look at some example requests of the e-periodica OAI interface with the **six OAI verbs**:\n",
    "\n",
    "- Identify ([specification](http://www.openarchives.org/OAI/openarchivesprotocol.html#Identify)):\n",
    "https://www.e-periodica.ch/oai?verb=Identify\n",
    "\n",
    "- ListSets ([spec](http://www.openarchives.org/OAI/openarchivesprotocol.html#ListSets)):\n",
    "https://www.e-periodica.ch/oai?verb=ListSets\n",
    "\n",
    "- ListMetadataFormats ([spec](http://www.openarchives.org/OAI/openarchivesprotocol.html#ListMetadataFormats)):\n",
    "https://www.e-periodica.ch/oai?verb=ListMetadataFormats\n",
    "- ListIdentifiers ([spec](http://www.openarchives.org/OAI/openarchivesprotocol.html#ListIdentifiers)):\n",
    "https://www.e-periodica.ch/oai?verb=ListIdentifiers&metadataPrefix=oai_dc&set=ddc:360\n",
    "\n",
    "- GetRecord ([spec](http://www.openarchives.org/OAI/openarchivesprotocol.html#GetRecord)):\n",
    "https://www.e-periodica.ch/oai?verb=GetRecord&metadataPrefix=oai_dc&identifier=oai:agora.ch:acd-002:1897:5::227 \n",
    "\n",
    "- ListRecords ([spec](http://www.openarchives.org/OAI/openarchivesprotocol.html#ListRecords)):\n",
    "https://www.e-periodica.ch/oai?verb=ListRecords&set=ddc:490&metadataPrefix=oai_dc\n",
    "\n",
    "These examples with the given *parameters* are somewhat easy to encode - and so is building similar request URLs.\n",
    "But how to download the delivered data and to interact with it? That's the aim of this Notebook. So, here we go!"
   ]
  },
  {
   "cell_type": "markdown",
   "metadata": {},
   "source": [
    "## 1 Metadata access with Polymatheia"
   ]
  },
  {
   "cell_type": "markdown",
   "metadata": {},
   "source": [
    "### 1.0 Prerequisites"
   ]
  },
  {
   "cell_type": "markdown",
   "metadata": {},
   "source": [
    "First, some basic Python libraries have to be imported. Just **click on the arrow icon** on the left side of the code cell - or first click into the cell and then select 'Crtl' + 'Enter' or 'Shift' + 'Enter'. When the code runs, a star symbol next to the cell appears and when it's done a number turns up. And most important, the provoked output is given beneath the code cell."
   ]
  },
  {
   "cell_type": "code",
   "execution_count": 1,
   "metadata": {},
   "outputs": [
    {
     "name": "stdout",
     "output_type": "stream",
     "text": [
      "Successfully imported necessary libraries\n"
     ]
    }
   ],
   "source": [
    "import os                              # navigate and manipulate file directories\n",
    "import pandas as pd                    # pandas is the Python standard library to work with dataframes\n",
    "from IPython.display import IFrame     # embed website views in Jupyter Notebook\n",
    "print(\"Successfully imported necessary libraries\")"
   ]
  },
  {
   "cell_type": "markdown",
   "metadata": {},
   "source": [
    "**Polymatheia** is a Python library to support working with digital library/archive metadata. It supports accessing metadata of different formats from OAI-PMH and also offers methods to handle the retrieved data. The metadata will be turned into a Python-style ['navigable dictionary'](https://polymatheia.readthedocs.io/en/latest/concepts.html), which allows convenient access to certain metadata fields.\n",
    "Its aim is not necessarily to cover all ways of working with metadata, but to make it easy to undertake most types of tasks and analysis. See the [documentation](https://polymatheia.readthedocs.io/en/latest/) of the Polymatheia library.\n",
    "\n",
    "Using Polymatheia package **for the first time**, you will need to **install this code library**: Just remove the `#` from the second line of code, and then execute the cell like the one before."
   ]
  },
  {
   "cell_type": "code",
   "execution_count": 2,
   "metadata": {},
   "outputs": [
    {
     "name": "stdout",
     "output_type": "stream",
     "text": [
      "Successfully imported necessary libraries\n"
     ]
    }
   ],
   "source": [
    "# de-comment !pip command for installing polymatheia\n",
    "#!pip install polymatheia                                      \n",
    "from polymatheia.data.reader import OAISetReader               # list OAI sets\n",
    "from polymatheia.data.reader import OAIMetadataFormatReader    # list available metadata formats\n",
    "from polymatheia.data.reader import OAIRecordReader            # read one metadata record from OAI\n",
    "from polymatheia.data.writer import PandasDFWriter             # easy transformation of flat data into a dataframe\n",
    "print(\"Successfully imported necessary libraries\")"
   ]
  },
  {
   "cell_type": "markdown",
   "metadata": {},
   "source": [
    "https://www.e-periodica.ch/oai/ will be the **base URL** for all OAI requests. To make live easier we put it into the variable `oai`."
   ]
  },
  {
   "cell_type": "code",
   "execution_count": 3,
   "metadata": {},
   "outputs": [],
   "source": [
    "oai = 'https://www.e-periodica.ch/oai/'"
   ]
  },
  {
   "cell_type": "markdown",
   "metadata": {},
   "source": [
    "### 1.1 Start with the OAI interface via Polymatheia"
   ]
  },
  {
   "cell_type": "markdown",
   "metadata": {},
   "source": [
    "First, it's good to know **which collections or *sets* are available**. To take a look at the sets from the native OAI interface let's take a look of https://www.e-periodica.ch/oai?verb=ListSets with the `IFrame` function. For every set, there is the `setName`, and a `setSpec`, which is a short cut for the set name and will be used as parameter with the OAI accesses."
   ]
  },
  {
   "cell_type": "code",
   "execution_count": 4,
   "metadata": {},
   "outputs": [
    {
     "data": {
      "text/html": [
       "\n",
       "        <iframe\n",
       "            width=\"970\"\n",
       "            height=\"300\"\n",
       "            src=\"https://www.e-periodica.ch/oai?verb=ListSets\"\n",
       "            frameborder=\"0\"\n",
       "            allowfullscreen\n",
       "        ></iframe>\n",
       "        "
      ],
      "text/plain": [
       "<IPython.lib.display.IFrame at 0x1a2800441c0>"
      ]
     },
     "execution_count": 4,
     "metadata": {},
     "output_type": "execute_result"
    }
   ],
   "source": [
    "IFrame('https://www.e-periodica.ch/oai?verb=ListSets', width=970, height=300)"
   ]
  },
  {
   "cell_type": "markdown",
   "metadata": {},
   "source": [
    "That's nice, but how to retrieve these contents as data? Polymatheia's 'OAISetReader' does this conveniently. Here's how it works."
   ]
  },
  {
   "cell_type": "code",
   "execution_count": 5,
   "metadata": {},
   "outputs": [
    {
     "name": "stdout",
     "output_type": "stream",
     "text": [
      "<class 'polymatheia.data.reader.OAISetReader'>\n"
     ]
    }
   ],
   "source": [
    "reader = OAISetReader(oai)             # instantiate ('make') a OAISetReader named reader\n",
    "# 'Instantiation' is a standard procedure with Python, so it's a good idea to get familiar with it.\n",
    "\n",
    "print(type(reader))                    # print the object type of 'reader' for information"
   ]
  },
  {
   "cell_type": "code",
   "execution_count": 6,
   "metadata": {},
   "outputs": [
    {
     "name": "stdout",
     "output_type": "stream",
     "text": [
      "{\n",
      "  \"setSpec\": \"ddc:000\",\n",
      "  \"setName\": \"Information\"\n",
      "}\n",
      "{\n",
      "  \"setSpec\": \"ddc:020\",\n",
      "  \"setName\": \"Library & information sciences\"\n",
      "}\n",
      "{\n",
      "  \"setSpec\": \"ddc:060\",\n",
      "  \"setName\": \"Associations, organizations & museums\"\n",
      "}\n",
      "{\n",
      "  \"setSpec\": \"ddc:070\",\n",
      "  \"setName\": \"News media, journalism & publishing\"\n",
      "}\n",
      "{\n",
      "  \"setSpec\": \"ddc:100\",\n",
      "  \"setName\": \"Philosophy\"\n",
      "}\n",
      "{\n",
      "  \"setSpec\": \"ddc:200\",\n",
      "  \"setName\": \"Religion\"\n",
      "}\n",
      "{\n",
      "  \"setSpec\": \"ddc:230\",\n",
      "  \"setName\": \"Christianity & Christian theology\"\n",
      "}\n",
      "{\n",
      "  \"setSpec\": \"ddc:290\",\n",
      "  \"setName\": \"Other religions\"\n",
      "}\n",
      "{\n",
      "  \"setSpec\": \"ddc:300\",\n",
      "  \"setName\": \"Social sciences\"\n",
      "}\n",
      "{\n",
      "  \"setSpec\": \"ddc:310\",\n",
      "  \"setName\": \"Statistics\"\n",
      "}\n",
      "{\n",
      "  \"setSpec\": \"ddc:320\",\n",
      "  \"setName\": \"Political science\"\n",
      "}\n",
      "{\n",
      "  \"setSpec\": \"ddc:330\",\n",
      "  \"setName\": \"Economics\"\n",
      "}\n",
      "{\n",
      "  \"setSpec\": \"ddc:340\",\n",
      "  \"setName\": \"Law\"\n",
      "}\n",
      "{\n",
      "  \"setSpec\": \"ddc:350\",\n",
      "  \"setName\": \"Public administration & military science\"\n",
      "}\n",
      "{\n",
      "  \"setSpec\": \"ddc:360\",\n",
      "  \"setName\": \"Social problems & social services\"\n",
      "}\n",
      "{\n",
      "  \"setSpec\": \"ddc:370\",\n",
      "  \"setName\": \"Education\"\n",
      "}\n",
      "{\n",
      "  \"setSpec\": \"ddc:380\",\n",
      "  \"setName\": \"Commerce, communications & transportation\"\n",
      "}\n",
      "{\n",
      "  \"setSpec\": \"ddc:390\",\n",
      "  \"setName\": \"Ethnology, folklore\"\n",
      "}\n",
      "{\n",
      "  \"setSpec\": \"ddc:400\",\n",
      "  \"setName\": \"Language\"\n",
      "}\n",
      "{\n",
      "  \"setSpec\": \"ddc:420\",\n",
      "  \"setName\": \"English & Old English languages\"\n",
      "}\n",
      "{\n",
      "  \"setSpec\": \"ddc:440\",\n",
      "  \"setName\": \"French & related languages\"\n",
      "}\n",
      "{\n",
      "  \"setSpec\": \"ddc:450\",\n",
      "  \"setName\": \"Italian, Romanian & related languages\"\n",
      "}\n",
      "{\n",
      "  \"setSpec\": \"ddc:490\",\n",
      "  \"setName\": \"Other languages\"\n",
      "}\n",
      "{\n",
      "  \"setSpec\": \"ddc:500\",\n",
      "  \"setName\": \"Sciences\"\n",
      "}\n",
      "{\n",
      "  \"setSpec\": \"ddc:510\",\n",
      "  \"setName\": \"Mathematics\"\n",
      "}\n",
      "{\n",
      "  \"setSpec\": \"ddc:520\",\n",
      "  \"setName\": \"Astronomy\"\n",
      "}\n",
      "{\n",
      "  \"setSpec\": \"ddc:530\",\n",
      "  \"setName\": \"Physics\"\n",
      "}\n",
      "{\n",
      "  \"setSpec\": \"ddc:540\",\n",
      "  \"setName\": \"Chemistry\"\n",
      "}\n",
      "{\n",
      "  \"setSpec\": \"ddc:550\",\n",
      "  \"setName\": \"Earth sciences & geology\"\n",
      "}\n",
      "{\n",
      "  \"setSpec\": \"ddc:570\",\n",
      "  \"setName\": \"Life sciences; biology\"\n",
      "}\n",
      "{\n",
      "  \"setSpec\": \"ddc:580\",\n",
      "  \"setName\": \"Plants (Botany)\"\n",
      "}\n",
      "{\n",
      "  \"setSpec\": \"ddc:590\",\n",
      "  \"setName\": \"Animals (Zoology)\"\n",
      "}\n",
      "{\n",
      "  \"setSpec\": \"ddc:600\",\n",
      "  \"setName\": \"Technology\"\n",
      "}\n",
      "{\n",
      "  \"setSpec\": \"ddc:610\",\n",
      "  \"setName\": \"Medicine & health\"\n",
      "}\n",
      "{\n",
      "  \"setSpec\": \"ddc:620\",\n",
      "  \"setName\": \"Engineering\"\n",
      "}\n",
      "{\n",
      "  \"setSpec\": \"ddc:630\",\n",
      "  \"setName\": \"Agriculture\"\n",
      "}\n",
      "{\n",
      "  \"setSpec\": \"ddc:640\",\n",
      "  \"setName\": \"Home & family management\"\n",
      "}\n",
      "{\n",
      "  \"setSpec\": \"ddc:660\",\n",
      "  \"setName\": \"Chemical engineering\"\n",
      "}\n",
      "{\n",
      "  \"setSpec\": \"ddc:670\",\n",
      "  \"setName\": \"Manufacturing\"\n",
      "}\n",
      "{\n",
      "  \"setSpec\": \"ddc:690\",\n",
      "  \"setName\": \"Building & construction\"\n",
      "}\n",
      "{\n",
      "  \"setSpec\": \"ddc:700\",\n",
      "  \"setName\": \"Arts, Architecture\"\n",
      "}\n",
      "{\n",
      "  \"setSpec\": \"ddc:710\",\n",
      "  \"setName\": \"Landscaping & area planning\"\n",
      "}\n",
      "{\n",
      "  \"setSpec\": \"ddc:720\",\n",
      "  \"setName\": \"Architecture\"\n",
      "}\n",
      "{\n",
      "  \"setSpec\": \"ddc:730\",\n",
      "  \"setName\": \"Sculpture, ceramics & metalwork\"\n",
      "}\n",
      "{\n",
      "  \"setSpec\": \"ddc:740\",\n",
      "  \"setName\": \"Drawing & decorative arts\"\n",
      "}\n",
      "{\n",
      "  \"setSpec\": \"ddc:770\",\n",
      "  \"setName\": \"Photography & computer art\"\n",
      "}\n",
      "{\n",
      "  \"setSpec\": \"ddc:780\",\n",
      "  \"setName\": \"Music\"\n",
      "}\n",
      "{\n",
      "  \"setSpec\": \"ddc:790\",\n",
      "  \"setName\": \"Sports, games & entertainment\"\n",
      "}\n",
      "{\n",
      "  \"setSpec\": \"ddc:800\",\n",
      "  \"setName\": \"Literature\"\n",
      "}\n",
      "{\n",
      "  \"setSpec\": \"ddc:830\",\n",
      "  \"setName\": \"German & related literatures\"\n",
      "}\n",
      "{\n",
      "  \"setSpec\": \"ddc:840\",\n",
      "  \"setName\": \"French & related literatures\"\n",
      "}\n",
      "{\n",
      "  \"setSpec\": \"ddc:850\",\n",
      "  \"setName\": \"Italian, Romanian & related literatures\"\n",
      "}\n",
      "{\n",
      "  \"setSpec\": \"ddc:860\",\n",
      "  \"setName\": \"Spanish & Portuguese literatures\"\n",
      "}\n",
      "{\n",
      "  \"setSpec\": \"ddc:890\",\n",
      "  \"setName\": \"Other literatures\"\n",
      "}\n",
      "{\n",
      "  \"setSpec\": \"ddc:900\",\n",
      "  \"setName\": \"History, Geography\"\n",
      "}\n",
      "{\n",
      "  \"setSpec\": \"ddc:910\",\n",
      "  \"setName\": \"Geography & travel\"\n",
      "}\n",
      "{\n",
      "  \"setSpec\": \"ddc:920\",\n",
      "  \"setName\": \"Biography & genealogy\"\n",
      "}\n",
      "{\n",
      "  \"setSpec\": \"ddc:930\",\n",
      "  \"setName\": \"History of ancient world (to ca. 499)\"\n",
      "}\n",
      "{\n",
      "  \"setSpec\": \"ddc:940\",\n",
      "  \"setName\": \"History of Europe\"\n",
      "}\n"
     ]
    }
   ],
   "source": [
    "for x in reader:                       # for-loop which iterates through the reader-content and prints each entry\n",
    "    print(x)                           # note that 'x' is an arbitrary term"
   ]
  },
  {
   "cell_type": "markdown",
   "metadata": {},
   "source": [
    "We might put this together and then turn the retrieved data into a *Pandas dataframe* with the 'PandasDFWriter' command. A **dataframe** is a table-like data object, which is a nice breakdown and moreover an useful format for further investigation. *Pandas* is the standard library in Python for dataframe handling."
   ]
  },
  {
   "cell_type": "code",
   "execution_count": 7,
   "metadata": {},
   "outputs": [
    {
     "name": "stdout",
     "output_type": "stream",
     "text": [
      "[{'setSpec': 'ddc:000', 'setName': 'Information'}, {'setSpec': 'ddc:020', 'setName': 'Library & information sciences'}, {'setSpec': 'ddc:060', 'setName': 'Associations, organizations & museums'}]\n",
      "---\n"
     ]
    },
    {
     "data": {
      "text/html": [
       "<div>\n",
       "<style scoped>\n",
       "    .dataframe tbody tr th:only-of-type {\n",
       "        vertical-align: middle;\n",
       "    }\n",
       "\n",
       "    .dataframe tbody tr th {\n",
       "        vertical-align: top;\n",
       "    }\n",
       "\n",
       "    .dataframe thead th {\n",
       "        text-align: right;\n",
       "    }\n",
       "</style>\n",
       "<table border=\"1\" class=\"dataframe\">\n",
       "  <thead>\n",
       "    <tr style=\"text-align: right;\">\n",
       "      <th></th>\n",
       "      <th>setSpec</th>\n",
       "      <th>setName</th>\n",
       "    </tr>\n",
       "  </thead>\n",
       "  <tbody>\n",
       "    <tr>\n",
       "      <th>0</th>\n",
       "      <td>ddc:000</td>\n",
       "      <td>Information</td>\n",
       "    </tr>\n",
       "    <tr>\n",
       "      <th>1</th>\n",
       "      <td>ddc:020</td>\n",
       "      <td>Library &amp; information sciences</td>\n",
       "    </tr>\n",
       "    <tr>\n",
       "      <th>2</th>\n",
       "      <td>ddc:060</td>\n",
       "      <td>Associations, organizations &amp; museums</td>\n",
       "    </tr>\n",
       "    <tr>\n",
       "      <th>3</th>\n",
       "      <td>ddc:070</td>\n",
       "      <td>News media, journalism &amp; publishing</td>\n",
       "    </tr>\n",
       "    <tr>\n",
       "      <th>4</th>\n",
       "      <td>ddc:100</td>\n",
       "      <td>Philosophy</td>\n",
       "    </tr>\n",
       "    <tr>\n",
       "      <th>5</th>\n",
       "      <td>ddc:200</td>\n",
       "      <td>Religion</td>\n",
       "    </tr>\n",
       "    <tr>\n",
       "      <th>6</th>\n",
       "      <td>ddc:230</td>\n",
       "      <td>Christianity &amp; Christian theology</td>\n",
       "    </tr>\n",
       "    <tr>\n",
       "      <th>7</th>\n",
       "      <td>ddc:290</td>\n",
       "      <td>Other religions</td>\n",
       "    </tr>\n",
       "    <tr>\n",
       "      <th>8</th>\n",
       "      <td>ddc:300</td>\n",
       "      <td>Social sciences</td>\n",
       "    </tr>\n",
       "    <tr>\n",
       "      <th>9</th>\n",
       "      <td>ddc:310</td>\n",
       "      <td>Statistics</td>\n",
       "    </tr>\n",
       "    <tr>\n",
       "      <th>10</th>\n",
       "      <td>ddc:320</td>\n",
       "      <td>Political science</td>\n",
       "    </tr>\n",
       "    <tr>\n",
       "      <th>11</th>\n",
       "      <td>ddc:330</td>\n",
       "      <td>Economics</td>\n",
       "    </tr>\n",
       "    <tr>\n",
       "      <th>12</th>\n",
       "      <td>ddc:340</td>\n",
       "      <td>Law</td>\n",
       "    </tr>\n",
       "    <tr>\n",
       "      <th>13</th>\n",
       "      <td>ddc:350</td>\n",
       "      <td>Public administration &amp; military science</td>\n",
       "    </tr>\n",
       "    <tr>\n",
       "      <th>14</th>\n",
       "      <td>ddc:360</td>\n",
       "      <td>Social problems &amp; social services</td>\n",
       "    </tr>\n",
       "    <tr>\n",
       "      <th>15</th>\n",
       "      <td>ddc:370</td>\n",
       "      <td>Education</td>\n",
       "    </tr>\n",
       "    <tr>\n",
       "      <th>16</th>\n",
       "      <td>ddc:380</td>\n",
       "      <td>Commerce, communications &amp; transportation</td>\n",
       "    </tr>\n",
       "    <tr>\n",
       "      <th>17</th>\n",
       "      <td>ddc:390</td>\n",
       "      <td>Ethnology, folklore</td>\n",
       "    </tr>\n",
       "    <tr>\n",
       "      <th>18</th>\n",
       "      <td>ddc:400</td>\n",
       "      <td>Language</td>\n",
       "    </tr>\n",
       "    <tr>\n",
       "      <th>19</th>\n",
       "      <td>ddc:420</td>\n",
       "      <td>English &amp; Old English languages</td>\n",
       "    </tr>\n",
       "    <tr>\n",
       "      <th>20</th>\n",
       "      <td>ddc:440</td>\n",
       "      <td>French &amp; related languages</td>\n",
       "    </tr>\n",
       "    <tr>\n",
       "      <th>21</th>\n",
       "      <td>ddc:450</td>\n",
       "      <td>Italian, Romanian &amp; related languages</td>\n",
       "    </tr>\n",
       "    <tr>\n",
       "      <th>22</th>\n",
       "      <td>ddc:490</td>\n",
       "      <td>Other languages</td>\n",
       "    </tr>\n",
       "    <tr>\n",
       "      <th>23</th>\n",
       "      <td>ddc:500</td>\n",
       "      <td>Sciences</td>\n",
       "    </tr>\n",
       "    <tr>\n",
       "      <th>24</th>\n",
       "      <td>ddc:510</td>\n",
       "      <td>Mathematics</td>\n",
       "    </tr>\n",
       "    <tr>\n",
       "      <th>25</th>\n",
       "      <td>ddc:520</td>\n",
       "      <td>Astronomy</td>\n",
       "    </tr>\n",
       "    <tr>\n",
       "      <th>26</th>\n",
       "      <td>ddc:530</td>\n",
       "      <td>Physics</td>\n",
       "    </tr>\n",
       "    <tr>\n",
       "      <th>27</th>\n",
       "      <td>ddc:540</td>\n",
       "      <td>Chemistry</td>\n",
       "    </tr>\n",
       "    <tr>\n",
       "      <th>28</th>\n",
       "      <td>ddc:550</td>\n",
       "      <td>Earth sciences &amp; geology</td>\n",
       "    </tr>\n",
       "    <tr>\n",
       "      <th>29</th>\n",
       "      <td>ddc:570</td>\n",
       "      <td>Life sciences; biology</td>\n",
       "    </tr>\n",
       "    <tr>\n",
       "      <th>30</th>\n",
       "      <td>ddc:580</td>\n",
       "      <td>Plants (Botany)</td>\n",
       "    </tr>\n",
       "    <tr>\n",
       "      <th>31</th>\n",
       "      <td>ddc:590</td>\n",
       "      <td>Animals (Zoology)</td>\n",
       "    </tr>\n",
       "    <tr>\n",
       "      <th>32</th>\n",
       "      <td>ddc:600</td>\n",
       "      <td>Technology</td>\n",
       "    </tr>\n",
       "    <tr>\n",
       "      <th>33</th>\n",
       "      <td>ddc:610</td>\n",
       "      <td>Medicine &amp; health</td>\n",
       "    </tr>\n",
       "    <tr>\n",
       "      <th>34</th>\n",
       "      <td>ddc:620</td>\n",
       "      <td>Engineering</td>\n",
       "    </tr>\n",
       "    <tr>\n",
       "      <th>35</th>\n",
       "      <td>ddc:630</td>\n",
       "      <td>Agriculture</td>\n",
       "    </tr>\n",
       "    <tr>\n",
       "      <th>36</th>\n",
       "      <td>ddc:640</td>\n",
       "      <td>Home &amp; family management</td>\n",
       "    </tr>\n",
       "    <tr>\n",
       "      <th>37</th>\n",
       "      <td>ddc:660</td>\n",
       "      <td>Chemical engineering</td>\n",
       "    </tr>\n",
       "    <tr>\n",
       "      <th>38</th>\n",
       "      <td>ddc:670</td>\n",
       "      <td>Manufacturing</td>\n",
       "    </tr>\n",
       "    <tr>\n",
       "      <th>39</th>\n",
       "      <td>ddc:690</td>\n",
       "      <td>Building &amp; construction</td>\n",
       "    </tr>\n",
       "    <tr>\n",
       "      <th>40</th>\n",
       "      <td>ddc:700</td>\n",
       "      <td>Arts, Architecture</td>\n",
       "    </tr>\n",
       "    <tr>\n",
       "      <th>41</th>\n",
       "      <td>ddc:710</td>\n",
       "      <td>Landscaping &amp; area planning</td>\n",
       "    </tr>\n",
       "    <tr>\n",
       "      <th>42</th>\n",
       "      <td>ddc:720</td>\n",
       "      <td>Architecture</td>\n",
       "    </tr>\n",
       "    <tr>\n",
       "      <th>43</th>\n",
       "      <td>ddc:730</td>\n",
       "      <td>Sculpture, ceramics &amp; metalwork</td>\n",
       "    </tr>\n",
       "    <tr>\n",
       "      <th>44</th>\n",
       "      <td>ddc:740</td>\n",
       "      <td>Drawing &amp; decorative arts</td>\n",
       "    </tr>\n",
       "    <tr>\n",
       "      <th>45</th>\n",
       "      <td>ddc:770</td>\n",
       "      <td>Photography &amp; computer art</td>\n",
       "    </tr>\n",
       "    <tr>\n",
       "      <th>46</th>\n",
       "      <td>ddc:780</td>\n",
       "      <td>Music</td>\n",
       "    </tr>\n",
       "    <tr>\n",
       "      <th>47</th>\n",
       "      <td>ddc:790</td>\n",
       "      <td>Sports, games &amp; entertainment</td>\n",
       "    </tr>\n",
       "    <tr>\n",
       "      <th>48</th>\n",
       "      <td>ddc:800</td>\n",
       "      <td>Literature</td>\n",
       "    </tr>\n",
       "    <tr>\n",
       "      <th>49</th>\n",
       "      <td>ddc:830</td>\n",
       "      <td>German &amp; related literatures</td>\n",
       "    </tr>\n",
       "    <tr>\n",
       "      <th>50</th>\n",
       "      <td>ddc:840</td>\n",
       "      <td>French &amp; related literatures</td>\n",
       "    </tr>\n",
       "    <tr>\n",
       "      <th>51</th>\n",
       "      <td>ddc:850</td>\n",
       "      <td>Italian, Romanian &amp; related literatures</td>\n",
       "    </tr>\n",
       "    <tr>\n",
       "      <th>52</th>\n",
       "      <td>ddc:860</td>\n",
       "      <td>Spanish &amp; Portuguese literatures</td>\n",
       "    </tr>\n",
       "    <tr>\n",
       "      <th>53</th>\n",
       "      <td>ddc:890</td>\n",
       "      <td>Other literatures</td>\n",
       "    </tr>\n",
       "    <tr>\n",
       "      <th>54</th>\n",
       "      <td>ddc:900</td>\n",
       "      <td>History, Geography</td>\n",
       "    </tr>\n",
       "    <tr>\n",
       "      <th>55</th>\n",
       "      <td>ddc:910</td>\n",
       "      <td>Geography &amp; travel</td>\n",
       "    </tr>\n",
       "    <tr>\n",
       "      <th>56</th>\n",
       "      <td>ddc:920</td>\n",
       "      <td>Biography &amp; genealogy</td>\n",
       "    </tr>\n",
       "    <tr>\n",
       "      <th>57</th>\n",
       "      <td>ddc:930</td>\n",
       "      <td>History of ancient world (to ca. 499)</td>\n",
       "    </tr>\n",
       "    <tr>\n",
       "      <th>58</th>\n",
       "      <td>ddc:940</td>\n",
       "      <td>History of Europe</td>\n",
       "    </tr>\n",
       "  </tbody>\n",
       "</table>\n",
       "</div>"
      ],
      "text/plain": [
       "    setSpec                                    setName\n",
       "0   ddc:000                                Information\n",
       "1   ddc:020             Library & information sciences\n",
       "2   ddc:060      Associations, organizations & museums\n",
       "3   ddc:070        News media, journalism & publishing\n",
       "4   ddc:100                                 Philosophy\n",
       "5   ddc:200                                   Religion\n",
       "6   ddc:230          Christianity & Christian theology\n",
       "7   ddc:290                            Other religions\n",
       "8   ddc:300                            Social sciences\n",
       "9   ddc:310                                 Statistics\n",
       "10  ddc:320                          Political science\n",
       "11  ddc:330                                  Economics\n",
       "12  ddc:340                                        Law\n",
       "13  ddc:350   Public administration & military science\n",
       "14  ddc:360          Social problems & social services\n",
       "15  ddc:370                                  Education\n",
       "16  ddc:380  Commerce, communications & transportation\n",
       "17  ddc:390                        Ethnology, folklore\n",
       "18  ddc:400                                   Language\n",
       "19  ddc:420            English & Old English languages\n",
       "20  ddc:440                 French & related languages\n",
       "21  ddc:450      Italian, Romanian & related languages\n",
       "22  ddc:490                            Other languages\n",
       "23  ddc:500                                   Sciences\n",
       "24  ddc:510                                Mathematics\n",
       "25  ddc:520                                  Astronomy\n",
       "26  ddc:530                                    Physics\n",
       "27  ddc:540                                  Chemistry\n",
       "28  ddc:550                   Earth sciences & geology\n",
       "29  ddc:570                     Life sciences; biology\n",
       "30  ddc:580                            Plants (Botany)\n",
       "31  ddc:590                          Animals (Zoology)\n",
       "32  ddc:600                                 Technology\n",
       "33  ddc:610                          Medicine & health\n",
       "34  ddc:620                                Engineering\n",
       "35  ddc:630                                Agriculture\n",
       "36  ddc:640                   Home & family management\n",
       "37  ddc:660                       Chemical engineering\n",
       "38  ddc:670                              Manufacturing\n",
       "39  ddc:690                    Building & construction\n",
       "40  ddc:700                         Arts, Architecture\n",
       "41  ddc:710                Landscaping & area planning\n",
       "42  ddc:720                               Architecture\n",
       "43  ddc:730            Sculpture, ceramics & metalwork\n",
       "44  ddc:740                  Drawing & decorative arts\n",
       "45  ddc:770                 Photography & computer art\n",
       "46  ddc:780                                      Music\n",
       "47  ddc:790              Sports, games & entertainment\n",
       "48  ddc:800                                 Literature\n",
       "49  ddc:830               German & related literatures\n",
       "50  ddc:840               French & related literatures\n",
       "51  ddc:850    Italian, Romanian & related literatures\n",
       "52  ddc:860           Spanish & Portuguese literatures\n",
       "53  ddc:890                          Other literatures\n",
       "54  ddc:900                         History, Geography\n",
       "55  ddc:910                         Geography & travel\n",
       "56  ddc:920                      Biography & genealogy\n",
       "57  ddc:930      History of ancient world (to ca. 499)\n",
       "58  ddc:940                          History of Europe"
      ]
     },
     "execution_count": 7,
     "metadata": {},
     "output_type": "execute_result"
    }
   ],
   "source": [
    "reader = OAISetReader(oai)\n",
    "setspec = []                          # make an empty list named 'setspec'\n",
    "\n",
    "for x in reader:                 \n",
    "    setspec.append(x)                 # .append adds all the single reader-contents to the list 'setspec'\n",
    "\n",
    "print(setspec[0:3])                   # print the first 3 items of the list (of key-value pairs), just to see\n",
    "print('---')                          # print a separating line\n",
    "\n",
    "df = PandasDFWriter().write(setspec)  # write list 'setspec' into a Pandas dataframe named 'df'\n",
    "df                                    # shows 'df' "
   ]
  },
  {
   "cell_type": "markdown",
   "metadata": {},
   "source": [
    "If a great number of sets are given, you might **search for a certain collection by string**. This can be also helpful to **get to know the set short cut** `setSpec` used by the OAI interface for further investigation of a certain set."
   ]
  },
  {
   "cell_type": "code",
   "execution_count": 8,
   "metadata": {},
   "outputs": [
    {
     "name": "stdout",
     "output_type": "stream",
     "text": [
      "setSpec                     ddc:550\n",
      "setName    Earth sciences & geology\n",
      "Name: 28, dtype: object\n",
      "setSpec               ddc:700\n",
      "setName    Arts, Architecture\n",
      "Name: 40, dtype: object\n",
      "setSpec                      ddc:740\n",
      "setName    Drawing & decorative arts\n",
      "Name: 44, dtype: object\n",
      "setSpec                       ddc:770\n",
      "setName    Photography & computer art\n",
      "Name: 45, dtype: object\n"
     ]
    }
   ],
   "source": [
    "# Example: Searching for strings 'art' or 'Art' in the 'setName' column\n",
    "for i in df.index:                                             # for-loop which iterates through 'df' contents\n",
    "    if 'art' in df.setName[i] or 'Art' in df.setName[i]:       # if-condition which looks for 'art' or 'Art'\n",
    "                                                               # in the 'setName' column\n",
    "        print(df.loc[i])                                       # print 'df' row, if if-condition is True"
   ]
  },
  {
   "cell_type": "markdown",
   "metadata": {},
   "source": [
    "It's also very useful to know in which **formats the metadata records** are available. The genuine interface does this by requesting the URL https://www.e-periodica.ch/oai?verb=ListMetadataFormats. Here, we use the 'OAIMetadataFormatReader' from Polymatheia.\n",
    "\n",
    "As you might see, you can directly select some information like `metadataPrefix` and `metadataNamespace` from the retrieved data by **using the dot-notation**. Dot-notation just adds the desired subordinated element after a dot."
   ]
  },
  {
   "cell_type": "code",
   "execution_count": 9,
   "metadata": {},
   "outputs": [
    {
     "name": "stdout",
     "output_type": "stream",
     "text": [
      "{\n",
      "  \"schema\": \"http://www.openarchives.org/OAI/2.0/oai_dc.xsd\",\n",
      "  \"metadataPrefix\": \"oai_dc\",\n",
      "  \"metadataNamespace\": \"http://www.openarchives.org/OAI/2.0/oai_dc/\"\n",
      "}\n",
      "oai_dc\n"
     ]
    }
   ],
   "source": [
    "reader = OAIMetadataFormatReader(oai)\n",
    "for formats in reader:    \n",
    "    print(formats) \n",
    "    print(formats.metadataPrefix)                   # dot-notation: chooses sub-element 'metadataPrefix'"
   ]
  },
  {
   "cell_type": "code",
   "execution_count": 10,
   "metadata": {},
   "outputs": [
    {
     "data": {
      "text/plain": [
       "['http://www.openarchives.org/OAI/2.0/oai_dc/']"
      ]
     },
     "execution_count": 10,
     "metadata": {},
     "output_type": "execute_result"
    }
   ],
   "source": [
    "reader = OAIMetadataFormatReader(oai)\n",
    "[formats.metadataNamespace for formats in reader]   # shorter notation for the for-loops above, which outputs a list"
   ]
  },
  {
   "cell_type": "markdown",
   "metadata": {},
   "source": [
    "### 1.2 Retrieve metadata records via Polymatheia"
   ]
  },
  {
   "cell_type": "markdown",
   "metadata": {},
   "source": [
    " Retrieving available **metadata as a bunch** is simple with the 'OAIRecordReader' command. Just specify the following parameters in the 'OAIRecordReader' function:\n",
    " \n",
    "- `metadata_prefix`: mandatory\n",
    "- `set_spec` (the short cut for the set you want to retrieve): not mandatory, but default will be *all = many* available records!\n",
    "- `max_records` (the number of records): not mandatory, but default will be *all = many* available records!\n",
    "\n",
    "To compare this result with the native OAI interface you might check the top item of \n",
    "https://www.e-periodica.ch/oai?verb=ListRecords&set=ddc:720&metadataPrefix=oai_dc.\n"
   ]
  },
  {
   "cell_type": "code",
   "execution_count": 11,
   "metadata": {},
   "outputs": [
    {
     "data": {
      "text/plain": [
       "[{'header': {'identifier': {'_text': 'oai:agora.ch:ant-001:1962:1::213'},\n",
       "   'datestamp': {'_text': '2013-12-09T21:27:22Z'},\n",
       "   'setSpec': {'_text': 'ddc:720'}},\n",
       "  'metadata': {'{http://www.openarchives.org/OAI/2.0/oai_dc/}dc': {'_attrib': {'xsi_schemaLocation': 'http://www.openarchives.org/OAI/2.0/oai_dc/ http://www.openarchives.org/OAI/2.0/oai_dc.xsd'},\n",
       "    'dc_title': {'_text': \"Man and motor don't mix : segregate them efficiently! = Vermischt Mensch und Motor nicht : trennt sie wirkungsvoll! = Ne mélangez pas l'homme et le moteur : séparez-les efficacement!\"},\n",
       "    'dc_creator': {'_text': 'Ritter, Paul'},\n",
       "    'dc_subject': {},\n",
       "    'dc_description': {},\n",
       "    'dc_publisher': {'_text': 'Graf + Neuhaus'},\n",
       "    'dc_contributor': {},\n",
       "    'dc_date': {'_text': '1962-03-01'},\n",
       "    'dc_type': [{'_text': 'Text'}, {'_text': 'Journal Article'}],\n",
       "    'dc_source': [{'_text': 'Anthos : Zeitschrift für Landschaftsarchitektur = Une revue pour le paysage'},\n",
       "     {'_text': '519488-x'},\n",
       "     {'_text': '0003-5424'},\n",
       "     {'_text': '1'},\n",
       "     {'_text': '1962'},\n",
       "     {'_text': '1'},\n",
       "     {},\n",
       "     {'_text': '7'}],\n",
       "    'dc_language': {},\n",
       "    'dc_relation': {},\n",
       "    'dc_coverage': {},\n",
       "    'dc_rights': {},\n",
       "    'dc_format': [{'_text': 'text/html'},\n",
       "     {'_text': 'application/pdf'},\n",
       "     {'_text': 'text/html'}],\n",
       "    'dc_identifier': [{'_text': 'https://www.e-periodica.ch/digbib/view?pid=ant-001:1962:1::213'},\n",
       "     {'_text': 'https://www.e-periodica.ch/cntmng?type=pdf&pid=ant-001:1962:1::213'},\n",
       "     {'_text': 'doi:10.5169/seals-131342'}]}}}]"
      ]
     },
     "execution_count": 11,
     "metadata": {},
     "output_type": "execute_result"
    }
   ],
   "source": [
    "reader = OAIRecordReader(oai, metadata_prefix='oai_dc', set_spec='ddc:720', max_records=1)\n",
    "[record for record in reader]"
   ]
  },
  {
   "cell_type": "markdown",
   "metadata": {},
   "source": [
    "To access a certain metadata content, you can **follow down the *navigable dictionary* path** with dot-notation, like the following example. The `identifier` element in the record's `header` section denotes the record identifier and the `setSpec` element the set short cut, which was used for selection."
   ]
  },
  {
   "cell_type": "code",
   "execution_count": 12,
   "metadata": {},
   "outputs": [
    {
     "name": "stdout",
     "output_type": "stream",
     "text": [
      "oai:agora.ch:ant-001:1962:1::213\n",
      "ddc:720\n"
     ]
    }
   ],
   "source": [
    "reader = OAIRecordReader(oai, set_spec='ddc:720', metadata_prefix='oai_dc', max_records=1)\n",
    "for record in reader:\n",
    "    print(record.header.identifier._text)        # compare to the first lines of the output above\n",
    "    print(record.header.setSpec._text)"
   ]
  },
  {
   "cell_type": "markdown",
   "metadata": {},
   "source": [
    "For retrieving contents from the `metadata` section a certain insertion has to be done according to its qualifying string `'{http://www.openarchives.org/OAI/2.0/oai_dc/}dc'`. To give some background information here: This string refers to the `metadataNamespace` element we've seen at retrieving the available metadata formats above."
   ]
  },
  {
   "cell_type": "code",
   "execution_count": 13,
   "metadata": {},
   "outputs": [
    {
     "name": "stdout",
     "output_type": "stream",
     "text": [
      "Man and motor don't mix : segregate them efficiently! = Vermischt Mensch und Motor nicht : trennt sie wirkungsvoll! = Ne mélangez pas l'homme et le moteur : séparez-les efficacement!\n",
      "Ritter, Paul\n",
      "Graf + Neuhaus\n",
      "1962-03-01\n"
     ]
    }
   ],
   "source": [
    "reader = OAIRecordReader(oai, set_spec='ddc:720', metadata_prefix='oai_dc', max_records=1)\n",
    "for record in reader:\n",
    "    print(record.metadata['{http://www.openarchives.org/OAI/2.0/oai_dc/}dc'].dc_title._text)\n",
    "    print(record.metadata['{http://www.openarchives.org/OAI/2.0/oai_dc/}dc'].dc_creator._text)\n",
    "    print(record.metadata['{http://www.openarchives.org/OAI/2.0/oai_dc/}dc'].dc_publisher._text)\n",
    "    print(record.metadata['{http://www.openarchives.org/OAI/2.0/oai_dc/}dc'].dc_date._text)"
   ]
  },
  {
   "cell_type": "markdown",
   "metadata": {},
   "source": [
    "Not always metadata content is a simple flat value like the identifier above. **Some fields in structured metadata formats are lists** as they hold multiple values.  A good example is the `metadata` field `dc_type` which holds the information about the different types a document falls into."
   ]
  },
  {
   "cell_type": "code",
   "execution_count": 14,
   "metadata": {},
   "outputs": [
    {
     "name": "stdout",
     "output_type": "stream",
     "text": [
      "[{'_text': 'Text'}, {'_text': 'Journal Article'}]\n"
     ]
    }
   ],
   "source": [
    "reader = OAIRecordReader(oai, set_spec='ddc:720', metadata_prefix='oai_dc', max_records=1)\n",
    "for record in reader:\n",
    "    print(record.metadata['{http://www.openarchives.org/OAI/2.0/oai_dc/}dc'].dc_type)"
   ]
  },
  {
   "cell_type": "markdown",
   "metadata": {},
   "source": [
    "The surrounding square brackets `[ ]` indicate a list (here of key-value pairs). To access each content of the list items of its own you might use *subsetting*, which calls the relevant item by its number in the list. "
   ]
  },
  {
   "cell_type": "code",
   "execution_count": 15,
   "metadata": {},
   "outputs": [
    {
     "name": "stdout",
     "output_type": "stream",
     "text": [
      "Text\n",
      "Journal Article\n"
     ]
    }
   ],
   "source": [
    "reader = OAIRecordReader(oai, set_spec='ddc:720', metadata_prefix='oai_dc', max_records=1)\n",
    "for record in reader:\n",
    "    print(record.metadata['{http://www.openarchives.org/OAI/2.0/oai_dc/}dc'].dc_type[0]._text)\n",
    "    print(record.metadata['{http://www.openarchives.org/OAI/2.0/oai_dc/}dc'].dc_type[1]._text)"
   ]
  },
  {
   "cell_type": "code",
   "execution_count": 16,
   "metadata": {},
   "outputs": [
    {
     "name": "stdout",
     "output_type": "stream",
     "text": [
      "https://www.e-periodica.ch/digbib/view?pid=ant-001:1962:1::213\n",
      "https://www.e-periodica.ch/cntmng?type=pdf&pid=ant-001:1962:1::213\n",
      "doi:10.5169/seals-131342\n"
     ]
    }
   ],
   "source": [
    "# Another example with subsetting\n",
    "reader = OAIRecordReader(oai, set_spec='ddc:720', metadata_prefix='oai_dc', max_records=1)\n",
    "for record in reader:  \n",
    "    print(record.metadata['{http://www.openarchives.org/OAI/2.0/oai_dc/}dc'].dc_identifier[0]._text)\n",
    "    print(record.metadata['{http://www.openarchives.org/OAI/2.0/oai_dc/}dc'].dc_identifier[1]._text)\n",
    "    print(record.metadata['{http://www.openarchives.org/OAI/2.0/oai_dc/}dc'].dc_identifier[2]._text)"
   ]
  },
  {
   "cell_type": "markdown",
   "metadata": {},
   "source": [
    "With e-periodica **journal articles** are retrieved. Therefore, the Dublin Core element `dc_source` is highly significant: It represents the various **metadata information of the periodical** in which the article was published. Eight `dc_source` elements are delivered and their sequence bears a deeper meaning:\n",
    "\n",
    "1. Title of the periodical\n",
    "2. ZDB ID - ID of the Zeitschriftendatenbank (see [example](https://zdb-katalog.de/title.xhtml?idn=011220082&view=full))\n",
    "3. ISSN\n",
    "4. Volume\n",
    "5. Year\n",
    "6. Issue\n",
    "7. \n",
    "8. Start page."
   ]
  },
  {
   "cell_type": "code",
   "execution_count": 17,
   "metadata": {},
   "outputs": [
    {
     "name": "stdout",
     "output_type": "stream",
     "text": [
      "[{'_text': 'Anthos : Zeitschrift für Landschaftsarchitektur = Une revue pour le paysage'}, {'_text': '519488-x'}, {'_text': '0003-5424'}, {'_text': '1'}, {'_text': '1962'}, {'_text': '1'}, {}, {'_text': '7'}]\n"
     ]
    }
   ],
   "source": [
    "reader = OAIRecordReader(oai, set_spec='ddc:720', metadata_prefix='oai_dc', max_records=1)\n",
    "for record in reader:  \n",
    "    print(record.metadata['{http://www.openarchives.org/OAI/2.0/oai_dc/}dc'].dc_source)"
   ]
  },
  {
   "cell_type": "markdown",
   "metadata": {},
   "source": [
    "Because drilling down the *navigable dictionary* path can lead to long commands - which might not be very clear, either - there is a catchier way to do so with the `get` command applied on the records.  Also, there is **no issue anymore with single values versus lists and qualifying strings**. Just putting the terms together as a list of `get` parameters!\n",
    "\n",
    "Note that in the case of more than one of the same element (like `dc_source`) a result list in squared brackets will be created."
   ]
  },
  {
   "cell_type": "code",
   "execution_count": 18,
   "metadata": {},
   "outputs": [
    {
     "name": "stdout",
     "output_type": "stream",
     "text": [
      "Ritter, Paul\n",
      "---\n",
      "['Anthos : Zeitschrift für Landschaftsarchitektur = Une revue pour le paysage', '519488-x', '0003-5424', '1', '1962', '1', None, '7']\n"
     ]
    }
   ],
   "source": [
    "reader = OAIRecordReader(oai, metadata_prefix='oai_dc', set_spec='ddc:720', max_records=1)\n",
    "for record in reader:\n",
    "    print(record.get(['metadata', '{http://www.openarchives.org/OAI/2.0/oai_dc/}dc', 'dc_creator', '_text']))\n",
    "    print('---')\n",
    "    print(record.get(['metadata', '{http://www.openarchives.org/OAI/2.0/oai_dc/}dc', 'dc_source', '_text']))"
   ]
  },
  {
   "cell_type": "markdown",
   "metadata": {},
   "source": [
    "So it's really easy to access whatever metadata content you like.\n",
    "This also works with the shorter form of for-loops. But mind that it delivers a nested - or 'doubled' - list, if there are the same elements several times, like `dc_source` here.\n"
   ]
  },
  {
   "cell_type": "code",
   "execution_count": 19,
   "metadata": {},
   "outputs": [
    {
     "data": {
      "text/plain": [
       "[['Anthos : Zeitschrift für Landschaftsarchitektur = Une revue pour le paysage',\n",
       "  '519488-x',\n",
       "  '0003-5424',\n",
       "  '1',\n",
       "  '1962',\n",
       "  '1',\n",
       "  None,\n",
       "  '7']]"
      ]
     },
     "execution_count": 19,
     "metadata": {},
     "output_type": "execute_result"
    }
   ],
   "source": [
    "reader = OAIRecordReader(oai, set_spec='ddc:720', metadata_prefix='oai_dc', max_records=1)\n",
    "\n",
    "[record.get(['metadata', '{http://www.openarchives.org/OAI/2.0/oai_dc/}dc', 'dc_source', '_text']) \\\n",
    "            for record in reader]                   # '\\' indicates that command proceeds on the next line"
   ]
  },
  {
   "cell_type": "markdown",
   "metadata": {},
   "source": [
    "Now let's **create a small dataframe with the creator, title and source** elements.\n",
    "\n",
    "There is a convenient way for this, relying on Python and Pandas standard procedures. So, to do this, first retrieve the single elements - as done before - and write them separately into lists (`sources`, `titles`, `creators`). Then, bind the lists into a dictionary (a genuine data type with Python), and finally turn this dictionary into a dataframe. Done!"
   ]
  },
  {
   "cell_type": "code",
   "execution_count": 20,
   "metadata": {},
   "outputs": [
    {
     "data": {
      "text/html": [
       "<style  type=\"text/css\" >\n",
       "</style><table id=\"T_f6d395ac_c51b_11eb_b9f9_00090ffe0001\" ><thead>    <tr>        <th class=\"blank level0\" ></th>        <th class=\"col_heading level0 col0\" >dc_creator</th>        <th class=\"col_heading level0 col1\" >dc_title</th>        <th class=\"col_heading level0 col2\" >dc_source</th>    </tr></thead><tbody>\n",
       "                <tr>\n",
       "                        <th id=\"T_f6d395ac_c51b_11eb_b9f9_00090ffe0001level0_row0\" class=\"row_heading level0 row0\" >0</th>\n",
       "                        <td id=\"T_f6d395ac_c51b_11eb_b9f9_00090ffe0001row0_col0\" class=\"data row0 col0\" >['Astié, J.F.', 'Dorner, D.J.A.']</td>\n",
       "                        <td id=\"T_f6d395ac_c51b_11eb_b9f9_00090ffe0001row0_col1\" class=\"data row0 col1\" >Histoire de la théologie protestante</td>\n",
       "                        <td id=\"T_f6d395ac_c51b_11eb_b9f9_00090ffe0001row0_col2\" class=\"data row0 col2\" >[\"Théologie et philosophie : compte-rendu des principales publications scientifiques à l'étranger\", '205427-9', '0259-7152', '1', '1868', None, None, '1']</td>\n",
       "            </tr>\n",
       "            <tr>\n",
       "                        <th id=\"T_f6d395ac_c51b_11eb_b9f9_00090ffe0001level0_row1\" class=\"row_heading level0 row1\" >1</th>\n",
       "                        <td id=\"T_f6d395ac_c51b_11eb_b9f9_00090ffe0001row1_col0\" class=\"data row1 col0\" >['H.F.A.', 'Fichte, I.-H.']</td>\n",
       "                        <td id=\"T_f6d395ac_c51b_11eb_b9f9_00090ffe0001row1_col1\" class=\"data row1 col1\" >Le théisme universel proposé comme but à la théologie spéculative</td>\n",
       "                        <td id=\"T_f6d395ac_c51b_11eb_b9f9_00090ffe0001row1_col2\" class=\"data row1 col2\" >[\"Théologie et philosophie : compte-rendu des principales publications scientifiques à l'étranger\", '205427-9', '0259-7152', '1', '1868', None, None, '51']</td>\n",
       "            </tr>\n",
       "            <tr>\n",
       "                        <th id=\"T_f6d395ac_c51b_11eb_b9f9_00090ffe0001level0_row2\" class=\"row_heading level0 row2\" >2</th>\n",
       "                        <td id=\"T_f6d395ac_c51b_11eb_b9f9_00090ffe0001row2_col0\" class=\"data row2 col0\" >['Buisson, Ferdinand', 'Ritter, Henri']</td>\n",
       "                        <td id=\"T_f6d395ac_c51b_11eb_b9f9_00090ffe0001row2_col1\" class=\"data row2 col1\" >Paradoxes philosophiques</td>\n",
       "                        <td id=\"T_f6d395ac_c51b_11eb_b9f9_00090ffe0001row2_col2\" class=\"data row2 col2\" >[\"Théologie et philosophie : compte-rendu des principales publications scientifiques à l'étranger\", '205427-9', '0259-7152', '1', '1868', None, None, '53']</td>\n",
       "            </tr>\n",
       "            <tr>\n",
       "                        <th id=\"T_f6d395ac_c51b_11eb_b9f9_00090ffe0001level0_row3\" class=\"row_heading level0 row3\" >3</th>\n",
       "                        <td id=\"T_f6d395ac_c51b_11eb_b9f9_00090ffe0001row3_col0\" class=\"data row3 col0\" >Choisy, Louis</td>\n",
       "                        <td id=\"T_f6d395ac_c51b_11eb_b9f9_00090ffe0001row3_col1\" class=\"data row3 col1\" >Ecce Homo : coup d'œil sur la vie et l'œuvre de Jésus-Christ</td>\n",
       "                        <td id=\"T_f6d395ac_c51b_11eb_b9f9_00090ffe0001row3_col2\" class=\"data row3 col2\" >[\"Théologie et philosophie : compte-rendu des principales publications scientifiques à l'étranger\", '205427-9', '0259-7152', '1', '1868', None, None, '69']</td>\n",
       "            </tr>\n",
       "            <tr>\n",
       "                        <th id=\"T_f6d395ac_c51b_11eb_b9f9_00090ffe0001level0_row4\" class=\"row_heading level0 row4\" >4</th>\n",
       "                        <td id=\"T_f6d395ac_c51b_11eb_b9f9_00090ffe0001row4_col0\" class=\"data row4 col0\" >[s.n.]</td>\n",
       "                        <td id=\"T_f6d395ac_c51b_11eb_b9f9_00090ffe0001row4_col1\" class=\"data row4 col1\" >François Bacon de Vérulam</td>\n",
       "                        <td id=\"T_f6d395ac_c51b_11eb_b9f9_00090ffe0001row4_col2\" class=\"data row4 col2\" >[\"Théologie et philosophie : compte-rendu des principales publications scientifiques à l'étranger\", '205427-9', '0259-7152', '1', '1868', None, None, '113']</td>\n",
       "            </tr>\n",
       "            <tr>\n",
       "                        <th id=\"T_f6d395ac_c51b_11eb_b9f9_00090ffe0001level0_row5\" class=\"row_heading level0 row5\" >5</th>\n",
       "                        <td id=\"T_f6d395ac_c51b_11eb_b9f9_00090ffe0001row5_col0\" class=\"data row5 col0\" >['Michelet, C.-L.', 'Amiel, H.-F.']</td>\n",
       "                        <td id=\"T_f6d395ac_c51b_11eb_b9f9_00090ffe0001row5_col1\" class=\"data row5 col1\" >L'hégélianisme en 1867 et le mouvement philosophique de l'Allemagne depuis trente-cinq ans</td>\n",
       "                        <td id=\"T_f6d395ac_c51b_11eb_b9f9_00090ffe0001row5_col2\" class=\"data row5 col2\" >[\"Théologie et philosophie : compte-rendu des principales publications scientifiques à l'étranger\", '205427-9', '0259-7152', '1', '1868', None, None, '130']</td>\n",
       "            </tr>\n",
       "            <tr>\n",
       "                        <th id=\"T_f6d395ac_c51b_11eb_b9f9_00090ffe0001level0_row6\" class=\"row_heading level0 row6\" >6</th>\n",
       "                        <td id=\"T_f6d395ac_c51b_11eb_b9f9_00090ffe0001row6_col0\" class=\"data row6 col0\" >['Cocorda, Oscar', 'Mazzarella, B.']</td>\n",
       "                        <td id=\"T_f6d395ac_c51b_11eb_b9f9_00090ffe0001row6_col1\" class=\"data row6 col1\" >Histoire de la critique</td>\n",
       "                        <td id=\"T_f6d395ac_c51b_11eb_b9f9_00090ffe0001row6_col2\" class=\"data row6 col2\" >[\"Théologie et philosophie : compte-rendu des principales publications scientifiques à l'étranger\", '205427-9', '0259-7152', '1', '1868', None, None, '177']</td>\n",
       "            </tr>\n",
       "            <tr>\n",
       "                        <th id=\"T_f6d395ac_c51b_11eb_b9f9_00090ffe0001level0_row7\" class=\"row_heading level0 row7\" >7</th>\n",
       "                        <td id=\"T_f6d395ac_c51b_11eb_b9f9_00090ffe0001row7_col0\" class=\"data row7 col0\" >['Pasquet, P.', 'Weissaecker, C.']</td>\n",
       "                        <td id=\"T_f6d395ac_c51b_11eb_b9f9_00090ffe0001row7_col1\" class=\"data row7 col1\" >De la rédemption</td>\n",
       "                        <td id=\"T_f6d395ac_c51b_11eb_b9f9_00090ffe0001row7_col2\" class=\"data row7 col2\" >[\"Théologie et philosophie : compte-rendu des principales publications scientifiques à l'étranger\", '205427-9', '0259-7152', '1', '1868', None, None, '202']</td>\n",
       "            </tr>\n",
       "            <tr>\n",
       "                        <th id=\"T_f6d395ac_c51b_11eb_b9f9_00090ffe0001level0_row8\" class=\"row_heading level0 row8\" >8</th>\n",
       "                        <td id=\"T_f6d395ac_c51b_11eb_b9f9_00090ffe0001row8_col0\" class=\"data row8 col0\" >['Buisson, F.', 'Ritter, Henri']</td>\n",
       "                        <td id=\"T_f6d395ac_c51b_11eb_b9f9_00090ffe0001row8_col1\" class=\"data row8 col1\" >Paradoxes philosophiques [suite]</td>\n",
       "                        <td id=\"T_f6d395ac_c51b_11eb_b9f9_00090ffe0001row8_col2\" class=\"data row8 col2\" >[\"Théologie et philosophie : compte-rendu des principales publications scientifiques à l'étranger\", '205427-9', '0259-7152', '1', '1868', None, None, '217']</td>\n",
       "            </tr>\n",
       "            <tr>\n",
       "                        <th id=\"T_f6d395ac_c51b_11eb_b9f9_00090ffe0001level0_row9\" class=\"row_heading level0 row9\" >9</th>\n",
       "                        <td id=\"T_f6d395ac_c51b_11eb_b9f9_00090ffe0001row9_col0\" class=\"data row9 col0\" >['Claparède, T.', 'Polenz, G. de']</td>\n",
       "                        <td id=\"T_f6d395ac_c51b_11eb_b9f9_00090ffe0001row9_col1\" class=\"data row9 col1\" >L'âge héroïque du Calvinisme français</td>\n",
       "                        <td id=\"T_f6d395ac_c51b_11eb_b9f9_00090ffe0001row9_col2\" class=\"data row9 col2\" >[\"Théologie et philosophie : compte-rendu des principales publications scientifiques à l'étranger\", '205427-9', '0259-7152', '1', '1868', None, None, '239']</td>\n",
       "            </tr>\n",
       "    </tbody></table>"
      ],
      "text/plain": [
       "<pandas.io.formats.style.Styler at 0x1a28008bd60>"
      ]
     },
     "execution_count": 20,
     "metadata": {},
     "output_type": "execute_result"
    }
   ],
   "source": [
    "reader = OAIRecordReader(oai, set_spec='ddc:290', metadata_prefix='oai_dc', max_records=10)\n",
    "\n",
    "# Make lists from Dublin Core elements\n",
    "sources = [record.get(['metadata', '{http://www.openarchives.org/OAI/2.0/oai_dc/}dc', 'dc_source', '_text']) \\\n",
    "            for record in reader]                 \n",
    "titles = [record.get(['metadata', '{http://www.openarchives.org/OAI/2.0/oai_dc/}dc', 'dc_title', '_text']) \\\n",
    "            for record in reader]\n",
    "creators = [record.get(['metadata', '{http://www.openarchives.org/OAI/2.0/oai_dc/}dc', 'dc_creator', '_text']) \\\n",
    "            for record in reader]\n",
    "   \n",
    "# Create a dictionary from the lists and turn the dictionary into a dataframe\n",
    "dic = {'dc_creator': creators, 'dc_title': titles, 'dc_source': sources} \n",
    "df = pd.DataFrame(dic)\n",
    "df.style"
   ]
  },
  {
   "cell_type": "markdown",
   "metadata": {},
   "source": [
    "We might go only a small step further to get some dedicated content from the various `dc_source` elements like the title of the journal and the publication year. The code only needs slight adjustment."
   ]
  },
  {
   "cell_type": "code",
   "execution_count": 21,
   "metadata": {},
   "outputs": [
    {
     "data": {
      "text/html": [
       "<style  type=\"text/css\" >\n",
       "</style><table id=\"T_f7fc9de3_c51b_11eb_b28f_00090ffe0001\" ><thead>    <tr>        <th class=\"blank level0\" ></th>        <th class=\"col_heading level0 col0\" >dc_creator</th>        <th class=\"col_heading level0 col1\" >dc_title</th>        <th class=\"col_heading level0 col2\" >periodical</th>        <th class=\"col_heading level0 col3\" >year</th>    </tr></thead><tbody>\n",
       "                <tr>\n",
       "                        <th id=\"T_f7fc9de3_c51b_11eb_b28f_00090ffe0001level0_row0\" class=\"row_heading level0 row0\" >0</th>\n",
       "                        <td id=\"T_f7fc9de3_c51b_11eb_b28f_00090ffe0001row0_col0\" class=\"data row0 col0\" >Straub, Emil</td>\n",
       "                        <td id=\"T_f7fc9de3_c51b_11eb_b28f_00090ffe0001row0_col1\" class=\"data row0 col1\" >Verpflegungsdienst im Gebirge</td>\n",
       "                        <td id=\"T_f7fc9de3_c51b_11eb_b28f_00090ffe0001row0_col2\" class=\"data row0 col2\" >Der Fourier : offizielles Organ des Schweizerischen Fourier-Verbandes und des Verbandes Schweizerischer Fouriergehilfen</td>\n",
       "                        <td id=\"T_f7fc9de3_c51b_11eb_b28f_00090ffe0001row0_col3\" class=\"data row0 col3\" >1928</td>\n",
       "            </tr>\n",
       "            <tr>\n",
       "                        <th id=\"T_f7fc9de3_c51b_11eb_b28f_00090ffe0001level0_row1\" class=\"row_heading level0 row1\" >1</th>\n",
       "                        <td id=\"T_f7fc9de3_c51b_11eb_b28f_00090ffe0001row1_col0\" class=\"data row1 col0\" >Gubler, Emil</td>\n",
       "                        <td id=\"T_f7fc9de3_c51b_11eb_b28f_00090ffe0001row1_col1\" class=\"data row1 col1\" >Die Feldbäckerei und das Brot</td>\n",
       "                        <td id=\"T_f7fc9de3_c51b_11eb_b28f_00090ffe0001row1_col2\" class=\"data row1 col2\" >Der Fourier : offizielles Organ des Schweizerischen Fourier-Verbandes und des Verbandes Schweizerischer Fouriergehilfen</td>\n",
       "                        <td id=\"T_f7fc9de3_c51b_11eb_b28f_00090ffe0001row1_col3\" class=\"data row1 col3\" >1928</td>\n",
       "            </tr>\n",
       "            <tr>\n",
       "                        <th id=\"T_f7fc9de3_c51b_11eb_b28f_00090ffe0001level0_row2\" class=\"row_heading level0 row2\" >2</th>\n",
       "                        <td id=\"T_f7fc9de3_c51b_11eb_b28f_00090ffe0001row2_col0\" class=\"data row2 col0\" >Jeangros, X.</td>\n",
       "                        <td id=\"T_f7fc9de3_c51b_11eb_b28f_00090ffe0001row2_col1\" class=\"data row2 col1\" >Wiedereinrücken!</td>\n",
       "                        <td id=\"T_f7fc9de3_c51b_11eb_b28f_00090ffe0001row2_col2\" class=\"data row2 col2\" >Der Fourier : offizielles Organ des Schweizerischen Fourier-Verbandes und des Verbandes Schweizerischer Fouriergehilfen</td>\n",
       "                        <td id=\"T_f7fc9de3_c51b_11eb_b28f_00090ffe0001row2_col3\" class=\"data row2 col3\" >1928</td>\n",
       "            </tr>\n",
       "            <tr>\n",
       "                        <th id=\"T_f7fc9de3_c51b_11eb_b28f_00090ffe0001level0_row3\" class=\"row_heading level0 row3\" >3</th>\n",
       "                        <td id=\"T_f7fc9de3_c51b_11eb_b28f_00090ffe0001row3_col0\" class=\"data row3 col0\" >[s.n.]</td>\n",
       "                        <td id=\"T_f7fc9de3_c51b_11eb_b28f_00090ffe0001row3_col1\" class=\"data row3 col1\" >Die Haftbarkeit des Truppenrechnungsführers</td>\n",
       "                        <td id=\"T_f7fc9de3_c51b_11eb_b28f_00090ffe0001row3_col2\" class=\"data row3 col2\" >Der Fourier : offizielles Organ des Schweizerischen Fourier-Verbandes und des Verbandes Schweizerischer Fouriergehilfen</td>\n",
       "                        <td id=\"T_f7fc9de3_c51b_11eb_b28f_00090ffe0001row3_col3\" class=\"data row3 col3\" >1928</td>\n",
       "            </tr>\n",
       "            <tr>\n",
       "                        <th id=\"T_f7fc9de3_c51b_11eb_b28f_00090ffe0001level0_row4\" class=\"row_heading level0 row4\" >4</th>\n",
       "                        <td id=\"T_f7fc9de3_c51b_11eb_b28f_00090ffe0001row4_col0\" class=\"data row4 col0\" >Gubler, Emil</td>\n",
       "                        <td id=\"T_f7fc9de3_c51b_11eb_b28f_00090ffe0001row4_col1\" class=\"data row4 col1\" >Die Feldbäckerei und das Brot [Fortsetzung und Schluss]</td>\n",
       "                        <td id=\"T_f7fc9de3_c51b_11eb_b28f_00090ffe0001row4_col2\" class=\"data row4 col2\" >Der Fourier : offizielles Organ des Schweizerischen Fourier-Verbandes und des Verbandes Schweizerischer Fouriergehilfen</td>\n",
       "                        <td id=\"T_f7fc9de3_c51b_11eb_b28f_00090ffe0001row4_col3\" class=\"data row4 col3\" >1928</td>\n",
       "            </tr>\n",
       "            <tr>\n",
       "                        <th id=\"T_f7fc9de3_c51b_11eb_b28f_00090ffe0001level0_row5\" class=\"row_heading level0 row5\" >5</th>\n",
       "                        <td id=\"T_f7fc9de3_c51b_11eb_b28f_00090ffe0001row5_col0\" class=\"data row5 col0\" >Riess, Max</td>\n",
       "                        <td id=\"T_f7fc9de3_c51b_11eb_b28f_00090ffe0001row5_col1\" class=\"data row5 col1\" >Bericht über die verpflegungstaktische Uebung im Gebiete Ringlikon, Uto-Kulm, Döltschi</td>\n",
       "                        <td id=\"T_f7fc9de3_c51b_11eb_b28f_00090ffe0001row5_col2\" class=\"data row5 col2\" >Der Fourier : offizielles Organ des Schweizerischen Fourier-Verbandes und des Verbandes Schweizerischer Fouriergehilfen</td>\n",
       "                        <td id=\"T_f7fc9de3_c51b_11eb_b28f_00090ffe0001row5_col3\" class=\"data row5 col3\" >1928</td>\n",
       "            </tr>\n",
       "            <tr>\n",
       "                        <th id=\"T_f7fc9de3_c51b_11eb_b28f_00090ffe0001level0_row6\" class=\"row_heading level0 row6\" >6</th>\n",
       "                        <td id=\"T_f7fc9de3_c51b_11eb_b28f_00090ffe0001row6_col0\" class=\"data row6 col0\" >[s.n.]</td>\n",
       "                        <td id=\"T_f7fc9de3_c51b_11eb_b28f_00090ffe0001row6_col1\" class=\"data row6 col1\" >Die Postulate des Schweizerischen Fourierverbandes</td>\n",
       "                        <td id=\"T_f7fc9de3_c51b_11eb_b28f_00090ffe0001row6_col2\" class=\"data row6 col2\" >Der Fourier : offizielles Organ des Schweizerischen Fourier-Verbandes und des Verbandes Schweizerischer Fouriergehilfen</td>\n",
       "                        <td id=\"T_f7fc9de3_c51b_11eb_b28f_00090ffe0001row6_col3\" class=\"data row6 col3\" >1928</td>\n",
       "            </tr>\n",
       "            <tr>\n",
       "                        <th id=\"T_f7fc9de3_c51b_11eb_b28f_00090ffe0001level0_row7\" class=\"row_heading level0 row7\" >7</th>\n",
       "                        <td id=\"T_f7fc9de3_c51b_11eb_b28f_00090ffe0001row7_col0\" class=\"data row7 col0\" >Windlinger, Hermann</td>\n",
       "                        <td id=\"T_f7fc9de3_c51b_11eb_b28f_00090ffe0001row7_col1\" class=\"data row7 col1\" >Skikurs auf Oberalp : Bericht</td>\n",
       "                        <td id=\"T_f7fc9de3_c51b_11eb_b28f_00090ffe0001row7_col2\" class=\"data row7 col2\" >Der Fourier : offizielles Organ des Schweizerischen Fourier-Verbandes und des Verbandes Schweizerischer Fouriergehilfen</td>\n",
       "                        <td id=\"T_f7fc9de3_c51b_11eb_b28f_00090ffe0001row7_col3\" class=\"data row7 col3\" >1928</td>\n",
       "            </tr>\n",
       "            <tr>\n",
       "                        <th id=\"T_f7fc9de3_c51b_11eb_b28f_00090ffe0001level0_row8\" class=\"row_heading level0 row8\" >8</th>\n",
       "                        <td id=\"T_f7fc9de3_c51b_11eb_b28f_00090ffe0001row8_col0\" class=\"data row8 col0\" >Huber, H.</td>\n",
       "                        <td id=\"T_f7fc9de3_c51b_11eb_b28f_00090ffe0001row8_col1\" class=\"data row8 col1\" >Die Brieftaube im Dienste unserer Armee</td>\n",
       "                        <td id=\"T_f7fc9de3_c51b_11eb_b28f_00090ffe0001row8_col2\" class=\"data row8 col2\" >Der Fourier : offizielles Organ des Schweizerischen Fourier-Verbandes und des Verbandes Schweizerischer Fouriergehilfen</td>\n",
       "                        <td id=\"T_f7fc9de3_c51b_11eb_b28f_00090ffe0001row8_col3\" class=\"data row8 col3\" >1928</td>\n",
       "            </tr>\n",
       "            <tr>\n",
       "                        <th id=\"T_f7fc9de3_c51b_11eb_b28f_00090ffe0001level0_row9\" class=\"row_heading level0 row9\" >9</th>\n",
       "                        <td id=\"T_f7fc9de3_c51b_11eb_b28f_00090ffe0001row9_col0\" class=\"data row9 col0\" >Bieler, E.</td>\n",
       "                        <td id=\"T_f7fc9de3_c51b_11eb_b28f_00090ffe0001row9_col1\" class=\"data row9 col1\" >Die Stellung des Fouriers in der Einheit und seine Aufgaben</td>\n",
       "                        <td id=\"T_f7fc9de3_c51b_11eb_b28f_00090ffe0001row9_col2\" class=\"data row9 col2\" >Der Fourier : offizielles Organ des Schweizerischen Fourier-Verbandes und des Verbandes Schweizerischer Fouriergehilfen</td>\n",
       "                        <td id=\"T_f7fc9de3_c51b_11eb_b28f_00090ffe0001row9_col3\" class=\"data row9 col3\" >1928</td>\n",
       "            </tr>\n",
       "    </tbody></table>"
      ],
      "text/plain": [
       "<pandas.io.formats.style.Styler at 0x1a280089d60>"
      ]
     },
     "execution_count": 21,
     "metadata": {},
     "output_type": "execute_result"
    }
   ],
   "source": [
    "reader = OAIRecordReader(oai, set_spec='ddc:350', metadata_prefix='oai_dc', max_records=10)\n",
    "\n",
    "# Make lists from Dublin Core elements                 \n",
    "titles = [record.get(['metadata', '{http://www.openarchives.org/OAI/2.0/oai_dc/}dc', 'dc_title', '_text']) \\\n",
    "            for record in reader]\n",
    "creators = [record.get(['metadata', '{http://www.openarchives.org/OAI/2.0/oai_dc/}dc', 'dc_creator', '_text']) \\\n",
    "            for record in reader]\n",
    "\n",
    "# Create empty lists 'periodicals' and 'years' to fill\n",
    "periodicals = []                   \n",
    "years = []\n",
    "# Fill these lists with the respective dc_source element\n",
    "for record in reader:  \n",
    "    periodicals.append(record.metadata['{http://www.openarchives.org/OAI/2.0/oai_dc/}dc'].dc_source[0]._text)\n",
    "    years.append(record.metadata['{http://www.openarchives.org/OAI/2.0/oai_dc/}dc'].dc_source[4]._text)\n",
    "\n",
    "# Create a dictionary from the lists and turn the dictionary into a dataframe\n",
    "dic = {'dc_creator': creators, 'dc_title': titles, 'periodical': periodicals, 'year': years} \n",
    "df = pd.DataFrame(dic)\n",
    "df.style"
   ]
  },
  {
   "cell_type": "markdown",
   "metadata": {},
   "source": [
    "### 1.3 Save  and recover complex metadata structures"
   ]
  },
  {
   "cell_type": "markdown",
   "metadata": {},
   "source": [
    "Before any data will be downloaded, let's build a folder `data` in our working directory to save any data."
   ]
  },
  {
   "cell_type": "code",
   "execution_count": 22,
   "metadata": {},
   "outputs": [
    {
     "name": "stdout",
     "output_type": "stream",
     "text": [
      "C:\\Users\\kwoit\\Documents\\GitHub\\ds-pytools\\web-tools\\e-periodica-access\n"
     ]
    }
   ],
   "source": [
    "print(os.getcwd())                                # print current working directory"
   ]
  },
  {
   "cell_type": "markdown",
   "metadata": {},
   "source": [
    "In case you might change your directory you can easily do this with `os.chdir` or `os.chdir(os.pardir)`. While `os.chdir()` changes the working directory to a subdirectory, `os.chdir(os.pardir)` will change it to the parent directory. Just uncomment (and maybe multiply) the commands you need."
   ]
  },
  {
   "cell_type": "code",
   "execution_count": 23,
   "metadata": {},
   "outputs": [],
   "source": [
    "#os.chdir(os.pardir)                              # change to parent directory\n",
    "#os.chdir(...)                                    # change to subdirectory\n",
    "os.makedirs('data', exist_ok=True)                # make new folder 'data' - if there isn't already one\n",
    "os.chdir('data')                                  # change to 'data' folder"
   ]
  },
  {
   "cell_type": "markdown",
   "metadata": {},
   "source": [
    "To **download a whole bunch of metadata items** in nested formats like *MODS*, the 'JSONWriter' from Polymatheia is very helpful.\n",
    "It creates a complex folder structure and JSON files to reproduce the structured metadata. And with 'JSONReader' one can easily recover the metadata set."
   ]
  },
  {
   "cell_type": "code",
   "execution_count": 24,
   "metadata": {},
   "outputs": [],
   "source": [
    "from polymatheia.data.writer import JSONWriter     # also available: CSVReader (for flat data), XMLReader and Writer\n",
    "from polymatheia.data.reader import JSONReader"
   ]
  },
  {
   "cell_type": "markdown",
   "metadata": {},
   "source": [
    "'JSONWriter' takes two parameters:\n",
    "- The first is the name of the directory into which the data should be stored.\n",
    "- The second is the dot-notated path (via its `header.identifier`) used to access the item's metadata.\n",
    "\n",
    "For more clarity, these are the contents of `header.identifier` for the first six records in the *DDC 690* set we will refer to:"
   ]
  },
  {
   "cell_type": "code",
   "execution_count": 25,
   "metadata": {},
   "outputs": [
    {
     "name": "stdout",
     "output_type": "stream",
     "text": [
      "oai:agora.ch:arc-001:1998:0::488\n",
      "oai:agora.ch:arc-001:1998:0::489\n",
      "oai:agora.ch:arc-001:1998:0::490\n",
      "oai:agora.ch:arc-001:1998:0::491\n",
      "oai:agora.ch:arc-001:1998:0::492\n",
      "oai:agora.ch:arc-001:1998:0::493\n"
     ]
    }
   ],
   "source": [
    "reader = OAIRecordReader(oai, set_spec='ddc:690', metadata_prefix='oai_dc', max_records=6)\n",
    "for record in reader:\n",
    "    print(record.header.identifier._text)"
   ]
  },
  {
   "cell_type": "code",
   "execution_count": 26,
   "metadata": {},
   "outputs": [],
   "source": [
    "# Download and save the first six records from Dublin Core format\n",
    "# 'poly_metadata' = directory to store into\n",
    "reader = OAIRecordReader(oai, set_spec='ddc:690', metadata_prefix='oai_dc', max_records=6)\n",
    "writer = JSONWriter('poly_metadata', 'header.identifier._text')    \n",
    "writer.write(reader)"
   ]
  },
  {
   "cell_type": "code",
   "execution_count": 27,
   "metadata": {},
   "outputs": [
    {
     "data": {
      "text/plain": [
       "[{'header': {'identifier': {'_text': 'oai:agora.ch:arc-001:1998:0::491'},\n",
       "   'datestamp': {'_text': '2019-06-19T06:31:19Z'},\n",
       "   'setSpec': {'_text': 'ddc:690'}},\n",
       "  'metadata': {'{http://www.openarchives.org/OAI/2.0/oai_dc/}dc': {'_attrib': {'xsi_schemaLocation': 'http://www.openarchives.org/OAI/2.0/oai_dc/ http://www.openarchives.org/OAI/2.0/oai_dc.xsd'},\n",
       "    'dc_title': {'_text': \"Una vocazione per l'architetto\"},\n",
       "    'dc_creator': {'_text': 'Canella, Guido'},\n",
       "    'dc_subject': {},\n",
       "    'dc_description': {},\n",
       "    'dc_publisher': {'_text': 'Edizioni Casagrande SA'},\n",
       "    'dc_contributor': {},\n",
       "    'dc_date': {'_text': '1998-03-01'},\n",
       "    'dc_type': [{'_text': 'Text'}, {'_text': 'Journal Article'}],\n",
       "    'dc_source': [{'_text': 'Archi : rivista svizzera di architettura, ingegneria e urbanistica = Swiss review of architecture, engineering and urban planning'},\n",
       "     {},\n",
       "     {'_text': '1422-5417'},\n",
       "     {'_text': '-'},\n",
       "     {'_text': '1998'},\n",
       "     {'_text': '1'},\n",
       "     {},\n",
       "     {'_text': '22'}],\n",
       "    'dc_language': {},\n",
       "    'dc_relation': {},\n",
       "    'dc_coverage': {},\n",
       "    'dc_rights': {},\n",
       "    'dc_format': [{'_text': 'text/html'},\n",
       "     {'_text': 'application/pdf'},\n",
       "     {'_text': 'text/html'}],\n",
       "    'dc_identifier': [{'_text': 'https://www.e-periodica.ch/digbib/view?pid=arc-001:1998:0::491'},\n",
       "     {'_text': 'https://www.e-periodica.ch/cntmng?type=pdf&pid=arc-001:1998:0::491'},\n",
       "     {'_text': 'doi:10.5169/seals-131374'}]}}},\n",
       " {'header': {'identifier': {'_text': 'oai:agora.ch:arc-001:1998:0::490'},\n",
       "   'datestamp': {'_text': '2019-06-19T06:31:19Z'},\n",
       "   'setSpec': {'_text': 'ddc:690'}},\n",
       "  'metadata': {'{http://www.openarchives.org/OAI/2.0/oai_dc/}dc': {'_attrib': {'xsi_schemaLocation': 'http://www.openarchives.org/OAI/2.0/oai_dc/ http://www.openarchives.org/OAI/2.0/oai_dc.xsd'},\n",
       "    'dc_title': {'_text': 'La necessità della ricerca'},\n",
       "    'dc_creator': {'_text': 'Koulermos, Panos'},\n",
       "    'dc_subject': {},\n",
       "    'dc_description': {},\n",
       "    'dc_publisher': {'_text': 'Edizioni Casagrande SA'},\n",
       "    'dc_contributor': {},\n",
       "    'dc_date': {'_text': '1998-03-01'},\n",
       "    'dc_type': [{'_text': 'Text'}, {'_text': 'Journal Article'}],\n",
       "    'dc_source': [{'_text': 'Archi : rivista svizzera di architettura, ingegneria e urbanistica = Swiss review of architecture, engineering and urban planning'},\n",
       "     {},\n",
       "     {'_text': '1422-5417'},\n",
       "     {'_text': '-'},\n",
       "     {'_text': '1998'},\n",
       "     {'_text': '1'},\n",
       "     {},\n",
       "     {'_text': '18'}],\n",
       "    'dc_language': {},\n",
       "    'dc_relation': {},\n",
       "    'dc_coverage': {},\n",
       "    'dc_rights': {},\n",
       "    'dc_format': [{'_text': 'text/html'},\n",
       "     {'_text': 'application/pdf'},\n",
       "     {'_text': 'text/html'}],\n",
       "    'dc_identifier': [{'_text': 'https://www.e-periodica.ch/digbib/view?pid=arc-001:1998:0::490'},\n",
       "     {'_text': 'https://www.e-periodica.ch/cntmng?type=pdf&pid=arc-001:1998:0::490'},\n",
       "     {'_text': 'doi:10.5169/seals-131373'}]}}},\n",
       " {'header': {'identifier': {'_text': 'oai:agora.ch:arc-001:1998:0::489'},\n",
       "   'datestamp': {'_text': '2019-06-19T06:31:19Z'},\n",
       "   'setSpec': {'_text': 'ddc:690'}},\n",
       "  'metadata': {'{http://www.openarchives.org/OAI/2.0/oai_dc/}dc': {'_attrib': {'xsi_schemaLocation': 'http://www.openarchives.org/OAI/2.0/oai_dc/ http://www.openarchives.org/OAI/2.0/oai_dc.xsd'},\n",
       "    'dc_title': {'_text': \"Il mestiere com'era : a proposito del mio lavoro a Berlino\"},\n",
       "    'dc_creator': {'_text': 'Grassi, Giorgio'},\n",
       "    'dc_subject': {},\n",
       "    'dc_description': {},\n",
       "    'dc_publisher': {'_text': 'Edizioni Casagrande SA'},\n",
       "    'dc_contributor': {},\n",
       "    'dc_date': {'_text': '1998-03-01'},\n",
       "    'dc_type': [{'_text': 'Text'}, {'_text': 'Journal Article'}],\n",
       "    'dc_source': [{'_text': 'Archi : rivista svizzera di architettura, ingegneria e urbanistica = Swiss review of architecture, engineering and urban planning'},\n",
       "     {},\n",
       "     {'_text': '1422-5417'},\n",
       "     {'_text': '-'},\n",
       "     {'_text': '1998'},\n",
       "     {'_text': '1'},\n",
       "     {},\n",
       "     {'_text': '14'}],\n",
       "    'dc_language': {},\n",
       "    'dc_relation': {},\n",
       "    'dc_coverage': {},\n",
       "    'dc_rights': {},\n",
       "    'dc_format': [{'_text': 'text/html'},\n",
       "     {'_text': 'application/pdf'},\n",
       "     {'_text': 'text/html'}],\n",
       "    'dc_identifier': [{'_text': 'https://www.e-periodica.ch/digbib/view?pid=arc-001:1998:0::489'},\n",
       "     {'_text': 'https://www.e-periodica.ch/cntmng?type=pdf&pid=arc-001:1998:0::489'},\n",
       "     {'_text': 'doi:10.5169/seals-131372'}]}}},\n",
       " {'header': {'identifier': {'_text': 'oai:agora.ch:arc-001:1998:0::488'},\n",
       "   'datestamp': {'_text': '2019-06-19T06:31:19Z'},\n",
       "   'setSpec': {'_text': 'ddc:690'}},\n",
       "  'metadata': {'{http://www.openarchives.org/OAI/2.0/oai_dc/}dc': {'_attrib': {'xsi_schemaLocation': 'http://www.openarchives.org/OAI/2.0/oai_dc/ http://www.openarchives.org/OAI/2.0/oai_dc.xsd'},\n",
       "    'dc_title': {'_text': \"Sul mestiere dell'architetto\"},\n",
       "    'dc_creator': {'_text': 'Moneo, Rafael'},\n",
       "    'dc_subject': {},\n",
       "    'dc_description': {},\n",
       "    'dc_publisher': {'_text': 'Edizioni Casagrande SA'},\n",
       "    'dc_contributor': {},\n",
       "    'dc_date': {'_text': '1998-03-01'},\n",
       "    'dc_type': [{'_text': 'Text'}, {'_text': 'Journal Article'}],\n",
       "    'dc_source': [{'_text': 'Archi : rivista svizzera di architettura, ingegneria e urbanistica = Swiss review of architecture, engineering and urban planning'},\n",
       "     {},\n",
       "     {'_text': '1422-5417'},\n",
       "     {'_text': '-'},\n",
       "     {'_text': '1998'},\n",
       "     {'_text': '1'},\n",
       "     {},\n",
       "     {'_text': '11'}],\n",
       "    'dc_language': {},\n",
       "    'dc_relation': {},\n",
       "    'dc_coverage': {},\n",
       "    'dc_rights': {},\n",
       "    'dc_format': [{'_text': 'text/html'},\n",
       "     {'_text': 'application/pdf'},\n",
       "     {'_text': 'text/html'}],\n",
       "    'dc_identifier': [{'_text': 'https://www.e-periodica.ch/digbib/view?pid=arc-001:1998:0::488'},\n",
       "     {'_text': 'https://www.e-periodica.ch/cntmng?type=pdf&pid=arc-001:1998:0::488'},\n",
       "     {'_text': 'doi:10.5169/seals-131371'}]}}},\n",
       " {'header': {'identifier': {'_text': 'oai:agora.ch:arc-001:1998:0::492'},\n",
       "   'datestamp': {'_text': '2019-06-19T06:31:19Z'},\n",
       "   'setSpec': {'_text': 'ddc:690'}},\n",
       "  'metadata': {'{http://www.openarchives.org/OAI/2.0/oai_dc/}dc': {'_attrib': {'xsi_schemaLocation': 'http://www.openarchives.org/OAI/2.0/oai_dc/ http://www.openarchives.org/OAI/2.0/oai_dc.xsd'},\n",
       "    'dc_title': {'_text': 'Un mestiere negato'},\n",
       "    'dc_creator': {'_text': 'Monestiroli, Antonio'},\n",
       "    'dc_subject': {},\n",
       "    'dc_description': {},\n",
       "    'dc_publisher': {'_text': 'Edizioni Casagrande SA'},\n",
       "    'dc_contributor': {},\n",
       "    'dc_date': {'_text': '1998-03-01'},\n",
       "    'dc_type': [{'_text': 'Text'}, {'_text': 'Journal Article'}],\n",
       "    'dc_source': [{'_text': 'Archi : rivista svizzera di architettura, ingegneria e urbanistica = Swiss review of architecture, engineering and urban planning'},\n",
       "     {},\n",
       "     {'_text': '1422-5417'},\n",
       "     {'_text': '-'},\n",
       "     {'_text': '1998'},\n",
       "     {'_text': '1'},\n",
       "     {},\n",
       "     {'_text': '23'}],\n",
       "    'dc_language': {},\n",
       "    'dc_relation': {},\n",
       "    'dc_coverage': {},\n",
       "    'dc_rights': {},\n",
       "    'dc_format': [{'_text': 'text/html'},\n",
       "     {'_text': 'application/pdf'},\n",
       "     {'_text': 'text/html'}],\n",
       "    'dc_identifier': [{'_text': 'https://www.e-periodica.ch/digbib/view?pid=arc-001:1998:0::492'},\n",
       "     {'_text': 'https://www.e-periodica.ch/cntmng?type=pdf&pid=arc-001:1998:0::492'},\n",
       "     {'_text': 'doi:10.5169/seals-131375'}]}}},\n",
       " {'header': {'identifier': {'_text': 'oai:agora.ch:arc-001:1998:0::493'},\n",
       "   'datestamp': {'_text': '2019-06-19T06:31:19Z'},\n",
       "   'setSpec': {'_text': 'ddc:690'}},\n",
       "  'metadata': {'{http://www.openarchives.org/OAI/2.0/oai_dc/}dc': {'_attrib': {'xsi_schemaLocation': 'http://www.openarchives.org/OAI/2.0/oai_dc/ http://www.openarchives.org/OAI/2.0/oai_dc.xsd'},\n",
       "    'dc_title': {'_text': 'Il mestiere quotidiano'},\n",
       "    'dc_creator': [{'_text': 'Giraudi, Sandra'},\n",
       "     {'_text': 'Wettstein, Felix'},\n",
       "     {'_text': 'Caruso, Alberto'}],\n",
       "    'dc_subject': {},\n",
       "    'dc_description': {},\n",
       "    'dc_publisher': {'_text': 'Edizioni Casagrande SA'},\n",
       "    'dc_contributor': {},\n",
       "    'dc_date': {'_text': '1998-03-01'},\n",
       "    'dc_type': [{'_text': 'Text'}, {'_text': 'Journal Article'}],\n",
       "    'dc_source': [{'_text': 'Archi : rivista svizzera di architettura, ingegneria e urbanistica = Swiss review of architecture, engineering and urban planning'},\n",
       "     {},\n",
       "     {'_text': '1422-5417'},\n",
       "     {'_text': '-'},\n",
       "     {'_text': '1998'},\n",
       "     {'_text': '1'},\n",
       "     {},\n",
       "     {'_text': '26'}],\n",
       "    'dc_language': {},\n",
       "    'dc_relation': {},\n",
       "    'dc_coverage': {},\n",
       "    'dc_rights': {},\n",
       "    'dc_format': [{'_text': 'text/html'},\n",
       "     {'_text': 'application/pdf'},\n",
       "     {'_text': 'text/html'}],\n",
       "    'dc_identifier': [{'_text': 'https://www.e-periodica.ch/digbib/view?pid=arc-001:1998:0::493'},\n",
       "     {'_text': 'https://www.e-periodica.ch/cntmng?type=pdf&pid=arc-001:1998:0::493'},\n",
       "     {'_text': 'doi:10.5169/seals-131376'}]}}}]"
      ]
     },
     "execution_count": 27,
     "metadata": {},
     "output_type": "execute_result"
    }
   ],
   "source": [
    "# Recover the six records from local disk\n",
    "reader = JSONReader('poly_metadata')\n",
    "[record for record in reader]"
   ]
  },
  {
   "cell_type": "markdown",
   "metadata": {},
   "source": [
    "The stored data **can be used just the same way** as the direct accessed one, like for instance for the `dc_title` element. Note that the order of the first six records is shuffled now."
   ]
  },
  {
   "cell_type": "code",
   "execution_count": 28,
   "metadata": {},
   "outputs": [
    {
     "name": "stdout",
     "output_type": "stream",
     "text": [
      "oai:agora.ch:arc-001:1998:0::491\n",
      "Una vocazione per l'architetto\n",
      "---\n",
      "oai:agora.ch:arc-001:1998:0::490\n",
      "La necessità della ricerca\n",
      "---\n",
      "oai:agora.ch:arc-001:1998:0::489\n",
      "Il mestiere com'era : a proposito del mio lavoro a Berlino\n",
      "---\n",
      "oai:agora.ch:arc-001:1998:0::488\n",
      "Sul mestiere dell'architetto\n",
      "---\n",
      "oai:agora.ch:arc-001:1998:0::492\n",
      "Un mestiere negato\n",
      "---\n",
      "oai:agora.ch:arc-001:1998:0::493\n",
      "Il mestiere quotidiano\n",
      "---\n"
     ]
    }
   ],
   "source": [
    "reader = JSONReader('poly_metadata')\n",
    "for record in reader:\n",
    "    print(record.header.identifier._text)\n",
    "    print(record.get(['metadata', '{http://www.openarchives.org/OAI/2.0/oai_dc/}dc', 'dc_title', '_text']))\n",
    "    print('---')"
   ]
  },
  {
   "cell_type": "markdown",
   "metadata": {},
   "source": [
    "Of course, there is also the way to read out certain metadata fields **via basic dot-notation**. But this will take a bit more of code to cope with the list vs. single value issue."
   ]
  },
  {
   "cell_type": "code",
   "execution_count": 29,
   "metadata": {},
   "outputs": [
    {
     "name": "stdout",
     "output_type": "stream",
     "text": [
      "oai:agora.ch:arc-001:1998:0::491\n",
      "Canella, Guido\n",
      "---\n",
      "oai:agora.ch:arc-001:1998:0::490\n",
      "Koulermos, Panos\n",
      "---\n",
      "oai:agora.ch:arc-001:1998:0::489\n",
      "Grassi, Giorgio\n",
      "---\n",
      "oai:agora.ch:arc-001:1998:0::488\n",
      "Moneo, Rafael\n",
      "---\n",
      "oai:agora.ch:arc-001:1998:0::492\n",
      "Monestiroli, Antonio\n",
      "---\n",
      "oai:agora.ch:arc-001:1998:0::493\n",
      "Giraudi, Sandra\n",
      "Wettstein, Felix\n",
      "Caruso, Alberto\n",
      "---\n"
     ]
    }
   ],
   "source": [
    "reader = JSONReader('poly_metadata')\n",
    "for record in reader:\n",
    "    print(record.header.identifier._text)\n",
    "    if isinstance(record.metadata['{http://www.openarchives.org/OAI/2.0/oai_dc/}dc'].dc_creator, list):\n",
    "        le = len(record.metadata['{http://www.openarchives.org/OAI/2.0/oai_dc/}dc'].dc_creator)\n",
    "        for i in range(le):\n",
    "            print(record.metadata['{http://www.openarchives.org/OAI/2.0/oai_dc/}dc'].dc_creator[i]._text)\n",
    "    else:\n",
    "        print(record.metadata['{http://www.openarchives.org/OAI/2.0/oai_dc/}dc'].dc_creator._text)\n",
    "    print('---')"
   ]
  },
  {
   "cell_type": "markdown",
   "metadata": {},
   "source": [
    "## 2 Direct metadata access via OAI-PMH"
   ]
  },
  {
   "cell_type": "markdown",
   "metadata": {},
   "source": [
    "Unfortunately, the Polymatheia library doesn't offer methods for *all* OAI verbs. For instance, there is no `ListIdentifiers` method (which delivers only the identifiers of a given set) and no `GetRecord` for retrieving the metadata of a certain item using its e-periodica ID.\n",
    "\n",
    "That's where especially the common libraries **requests** and  **BeautifulSoup** come into play, and more manually coding is needed.\n"
   ]
  },
  {
   "cell_type": "markdown",
   "metadata": {},
   "source": [
    "### 2.0 Prerequisites"
   ]
  },
  {
   "cell_type": "code",
   "execution_count": 30,
   "metadata": {},
   "outputs": [
    {
     "name": "stdout",
     "output_type": "stream",
     "text": [
      "Succesfully imported necessary libraries\n"
     ]
    }
   ],
   "source": [
    "# Load the necessary libraries\n",
    "import requests                                 # request URLs\n",
    "from bs4 import BeautifulSoup as soup           # webscrape and parse HTML and XML\n",
    "import lxml                                     # XML parser supported by bs4\n",
    "                                                # call with soup(markup, 'lxml-xml' OR 'xml')\n",
    "import os                                       # navigate and manipulate file directories\n",
    "import time                                     # work with time stamps\n",
    "import json                                     # work with JSON data structures\n",
    "import pandas as pd                             # pandas is the Python standard library to work with dataframes\n",
    "from IPython.display import IFrame              # embed website views in jupyter notebook\n",
    "import math                                     # work with mathematical functions\n",
    "import re                                       # work with regular expressions\n",
    "print(\"Succesfully imported necessary libraries\")"
   ]
  },
  {
   "cell_type": "markdown",
   "metadata": {},
   "source": [
    "https://www.e-periodica.ch/oai/ will be the **base URL** for all OAI requests. To make life easier we put it into the variable `oai`."
   ]
  },
  {
   "cell_type": "code",
   "execution_count": 31,
   "metadata": {},
   "outputs": [],
   "source": [
    "oai = 'https://www.e-periodica.ch/oai/'"
   ]
  },
  {
   "cell_type": "markdown",
   "metadata": {},
   "source": [
    "### 2.1 Start with the native OAI interface"
   ]
  },
  {
   "cell_type": "markdown",
   "metadata": {},
   "source": [
    "The very **core of all operations on the OAI interface** will be a small function called `load_xml()`. It simply requests the base URL with the various parameters and decodes the answer to XML. Therefore, it can be used with all OAI verbs and their respective parameters."
   ]
  },
  {
   "cell_type": "code",
   "execution_count": 32,
   "metadata": {},
   "outputs": [],
   "source": [
    "def load_xml(params):\n",
    "    '''\n",
    "    Accesses the OAI interface according to given parameters and scrapes its content.\n",
    "    Parameters:\n",
    "    All available native OAI verbs and parameter/value pairs.\n",
    "    '''\n",
    "    base_url = oai\n",
    "    response = requests.get(base_url, params=params)\n",
    "    output_soup = soup(response.content, \"lxml\")\n",
    "    return output_soup"
   ]
  },
  {
   "cell_type": "markdown",
   "metadata": {},
   "source": [
    "You may use it to read out the basic `Identify` response of the OAI interface.\n",
    "\n",
    "Note, that the parameters to be used by the `load_xml` function are the same as in the respective URL `https://www.e-periodica.ch/oai?verb=Identify`. That is, `verb` as the parameter key, and `Identify` as the parameter value. Therefore, we need a **parameter key-value pair**, which will be indicated by enclosing them in curly braces."
   ]
  },
  {
   "cell_type": "code",
   "execution_count": 33,
   "metadata": {},
   "outputs": [
    {
     "data": {
      "text/plain": [
       "<?xml version=\"1.0\" encoding=\"UTF-8\"?><html><body><oai-pmh xmlns=\"http://www.openarchives.org/OAI/2.0/\" xmlns:xsi=\"http://www.w3.org/2001/XMLSchema-instance\" xsi:schemalocation=\"http://www.openarchives.org/OAI/2.0/ http://www.openarchives.org/OAI/2.0/OAI-PMH.xsd\">\n",
       "<responsedate>2021-06-04T10:02:30Z</responsedate>\n",
       "<request verb=\"Identify\">https://www.e-periodica.ch/oai/dataprovider</request>\n",
       "<identify>\n",
       "<repositoryname>repository.prod</repositoryname>\n",
       "<baseurl>https://www.e-periodica.ch/oai/dataprovider</baseurl>\n",
       "<protocolversion>2.0</protocolversion>\n",
       "<adminemail>webmaster@e-periodica.ch</adminemail>\n",
       "<earliestdatestamp>2013-12-09T21:21:34Z</earliestdatestamp>\n",
       "<deletedrecord>no</deletedrecord>\n",
       "<granularity>YYYY-MM-DDThh:mm:ssZ</granularity>\n",
       "<description>\n",
       "<oai-identifier xmlns=\"http://www.openarchives.org/OAI/2.0/oai-identifier\" xmlns:xsi=\"http://www.w3.org/2001/XMLSchema-instance\" xsi:schemalocation=\"http://www.openarchives.org/OAI/2.0/oai-identifier http://www.openarchives.org/OAI/2.0/oai-identifier.xsd\">\n",
       "<scheme>oai</scheme>\n",
       "<repositoryidentifier>agora</repositoryidentifier>\n",
       "<delimiter>:</delimiter>\n",
       "<sampleidentifier>oai:agora:buw-001:1947:1</sampleidentifier>\n",
       "</oai-identifier>\n",
       "</description>\n",
       "</identify>\n",
       "</oai-pmh></body></html>"
      ]
     },
     "execution_count": 33,
     "metadata": {},
     "output_type": "execute_result"
    }
   ],
   "source": [
    "xml_soup = load_xml({'verb': 'Identify'})\n",
    "xml_soup"
   ]
  },
  {
   "cell_type": "markdown",
   "metadata": {},
   "source": [
    "You can easily check with the `IFrame` method underneath."
   ]
  },
  {
   "cell_type": "code",
   "execution_count": 34,
   "metadata": {},
   "outputs": [
    {
     "data": {
      "text/html": [
       "\n",
       "        <iframe\n",
       "            width=\"970\"\n",
       "            height=\"330\"\n",
       "            src=\"https://www.e-periodica.ch/oai?verb=Identify\"\n",
       "            frameborder=\"0\"\n",
       "            allowfullscreen\n",
       "        ></iframe>\n",
       "        "
      ],
      "text/plain": [
       "<IPython.lib.display.IFrame at 0x1a2811feee0>"
      ]
     },
     "execution_count": 34,
     "metadata": {},
     "output_type": "execute_result"
    }
   ],
   "source": [
    "IFrame('https://www.e-periodica.ch/oai?verb=Identify', width=970, height=330)"
   ]
  },
  {
   "cell_type": "markdown",
   "metadata": {},
   "source": [
    "### 2.2  Download metadata records"
   ]
  },
  {
   "cell_type": "markdown",
   "metadata": {},
   "source": [
    "The same can be done with the `GetRecord` OAI verb, here `metadataPrefix`and `identifier` are mandatory parameters, naturally. Since the e-periodica identifier is not simply an integer, you ought to put it in quotation marks every time."
   ]
  },
  {
   "cell_type": "code",
   "execution_count": 35,
   "metadata": {},
   "outputs": [
    {
     "data": {
      "text/plain": [
       "<?xml version=\"1.0\" encoding=\"UTF-8\"?><html><body><oai-pmh xmlns=\"http://www.openarchives.org/OAI/2.0/\" xmlns:xsi=\"http://www.w3.org/2001/XMLSchema-instance\" xsi:schemalocation=\"http://www.openarchives.org/OAI/2.0/ http://www.openarchives.org/OAI/2.0/OAI-PMH.xsd\">\n",
       "<responsedate>2021-06-04T10:02:30Z</responsedate>\n",
       "<request identifier=\"oai:agora.ch:fde-001:1908:1::7\" metadataprefix=\"oai_dc\" verb=\"GetRecord\">https://www.e-periodica.ch/oai/dataprovider</request>\n",
       "<getrecord>\n",
       "<record>\n",
       "<header>\n",
       "<identifier>oai:agora.ch:fde-001:1908:1::7</identifier>\n",
       "<datestamp>2018-04-12T19:17:43Z</datestamp>\n",
       "<setspec>ddc:100</setspec>\n",
       "<setspec>ddc:200</setspec>\n",
       "<setspec>ddc:320</setspec>\n",
       "</header>\n",
       "<metadata>\n",
       "<oai_dc:dc xmlns:dc=\"http://purl.org/dc/elements/1.1/\" xmlns:oai_dc=\"http://www.openarchives.org/OAI/2.0/oai_dc/\" xmlns:xsi=\"http://www.w3.org/2001/XMLSchema-instance\" xsi:schemalocation=\"http://www.openarchives.org/OAI/2.0/oai_dc/ http://www.openarchives.org/OAI/2.0/oai_dc.xsd\">\n",
       "<dc:title>Unser Programm : Was will ein Freidenkerverein in der Schweiz?</dc:title>\n",
       "<dc:creator>A. F.</dc:creator>\n",
       "<dc:subject></dc:subject>\n",
       "<dc:description></dc:description>\n",
       "<dc:publisher>Deutsch-schweizerischer Freidenkerbund</dc:publisher>\n",
       "<dc:contributor></dc:contributor>\n",
       "<dc:date>1908-01-01</dc:date>\n",
       "<dc:type>Text</dc:type>\n",
       "<dc:type>Journal Article</dc:type>\n",
       "<dc:source>Frei denken</dc:source>\n",
       "<dc:source>514979-4</dc:source>\n",
       "<dc:source></dc:source> <dc:source>1</dc:source>\n",
       "<dc:source>1908</dc:source>\n",
       "<dc:source>1</dc:source>\n",
       "<dc:source></dc:source> <dc:source>_</dc:source>\n",
       "<dc:language></dc:language>\n",
       "<dc:relation></dc:relation>\n",
       "<dc:coverage></dc:coverage>\n",
       "<dc:rights></dc:rights>\n",
       "<dc:format>text/html</dc:format>\n",
       "<dc:identifier>https://www.e-periodica.ch/digbib/view?pid=fde-001:1908:1::7</dc:identifier>\n",
       "<dc:format>application/pdf</dc:format>\n",
       "<dc:identifier>https://www.e-periodica.ch/cntmng?type=pdf&amp;pid=fde-001:1908:1::7</dc:identifier>\n",
       "<dc:format>text/html</dc:format>\n",
       "<dc:identifier>doi:10.5169/seals-405882</dc:identifier>\n",
       "</oai_dc:dc>\n",
       "</metadata>\n",
       "</record>\n",
       "</getrecord>\n",
       "</oai-pmh></body></html>"
      ]
     },
     "execution_count": 35,
     "metadata": {},
     "output_type": "execute_result"
    }
   ],
   "source": [
    "# Example for accessing a single metadata record\n",
    "# https://www.e-periodica.ch/oai?verb=GetRecord&metadataPrefix=oai_dc&identifier=oai:agora.ch:fde-001:1908:1::7\n",
    "\n",
    "xml_soup = load_xml({'verb': 'GetRecord', 'metadataPrefix': 'oai_dc', \\\n",
    "                     'identifier': 'oai:agora.ch:fde-001:1908:1::7'})\n",
    "xml_soup"
   ]
  },
  {
   "cell_type": "markdown",
   "metadata": {},
   "source": [
    "Again before downloading, first make a designated folder for the retrieved metadata."
   ]
  },
  {
   "cell_type": "code",
   "execution_count": 36,
   "metadata": {},
   "outputs": [
    {
     "name": "stdout",
     "output_type": "stream",
     "text": [
      "C:\\Users\\kwoit\\Documents\\GitHub\\ds-pytools\\web-tools\\e-periodica-access\\data\n"
     ]
    }
   ],
   "source": [
    "print(os.getcwd())                       # print current working directory"
   ]
  },
  {
   "cell_type": "markdown",
   "metadata": {},
   "source": [
    "In case you might change your directory you can easily do this with `os.chdir` or `os.chdir(os.pardir)`. While `os.chdir()` changes the working directory to a subdirectory, `os.chdir(os.pardir)` will change it to the parent directory.  Just uncomment (and maybe multiply) the commands you need."
   ]
  },
  {
   "cell_type": "code",
   "execution_count": 37,
   "metadata": {},
   "outputs": [],
   "source": [
    "#os.chdir(os.pardir)                      # change to parent directory\n",
    "#os.chdir(...)                            # change to subdirectory '...'\n",
    "os.makedirs('metadata', exist_ok=True)    # make folder 'metadata' - if it is not already there\n",
    "os.chdir('metadata')                      # change to folder 'metadata'"
   ]
  },
  {
   "cell_type": "markdown",
   "metadata": {},
   "source": [
    "You might want to **download the metadata record directly** by its e-periodica ID. The `download_record()` function does this for you easily."
   ]
  },
  {
   "cell_type": "code",
   "execution_count": 38,
   "metadata": {},
   "outputs": [],
   "source": [
    "def download_record(ID, filename):\n",
    "    '''\n",
    "    Downloads a certain metadata record from OAI to a single XML file.\n",
    "    Throws a notice if metadata file already exists and leaves the existing one.\n",
    "    Parameters:\n",
    "    ID = E-periodica ID of the desired record.\n",
    "    filename = File name to choose for the downloaded record.\n",
    "    '''\n",
    "    path = os.getcwd()\n",
    "    output_soup = load_xml({'verb': 'GetRecord', 'metadataPrefix': 'oai_dc', 'identifier': 'oai:agora.ch:' + str(ID)})\n",
    "    outfile = path + '/{}.xml'.format(filename) \n",
    "    try:\n",
    "        with open(outfile, mode='x', encoding='utf-8') as f:\n",
    "            f.write(output_soup.decode())\n",
    "            print(\"Metadata file {}.xml saved\".format(filename))\n",
    "    except FileExistsError:\n",
    "            print(\"Metadata file {}.xml exists already\".format(filename))\n",
    "    finally:\n",
    "            pass"
   ]
  },
  {
   "cell_type": "code",
   "execution_count": 39,
   "metadata": {},
   "outputs": [
    {
     "name": "stdout",
     "output_type": "stream",
     "text": [
      "Metadata file freidenker_programm.xml saved\n"
     ]
    }
   ],
   "source": [
    "# Example for downloading a single metadata record\n",
    "# https://www.e-periodica.ch/oai?verb=GetRecord&metadataPrefix=oai_dc&identifier=oai:agora.ch:adi-001:1931:2::214\n",
    "\n",
    "download_record('fde-001:1908:1::7', 'freidenker_programm')"
   ]
  },
  {
   "cell_type": "markdown",
   "metadata": {},
   "source": [
    "### 2.3 Download metadata by set"
   ]
  },
  {
   "cell_type": "markdown",
   "metadata": {},
   "source": [
    "Scraping the OAI interface output directly yields a problem with bigger data. The output is **split into segments of 100 records, which are presented on single webpages**. Looking at a sample request with `ListIdentifier` method, you will find the `resumptionToken` element, which holds the resumption token. The [resumption token](http://www.openarchives.org/OAI/openarchivesprotocol.html#FlowControl) is required to access the next segment webpage, which again includes a resumtpiotn token to the next page and so on."
   ]
  },
  {
   "cell_type": "code",
   "execution_count": 40,
   "metadata": {},
   "outputs": [
    {
     "data": {
      "text/html": [
       "\n",
       "        <iframe\n",
       "            width=\"970\"\n",
       "            height=\"300\"\n",
       "            src=\"https://www.e-periodica.ch/oai?verb=ListIdentifiers&set=ddc:340&metadataPrefix=oai_dc\"\n",
       "            frameborder=\"0\"\n",
       "            allowfullscreen\n",
       "        ></iframe>\n",
       "        "
      ],
      "text/plain": [
       "<IPython.lib.display.IFrame at 0x1a2811e68e0>"
      ]
     },
     "execution_count": 40,
     "metadata": {},
     "output_type": "execute_result"
    }
   ],
   "source": [
    "# Scroll to the end of the page for the resumption token\n",
    "IFrame('https://www.e-periodica.ch/oai?verb=ListIdentifiers&set=ddc:340&metadataPrefix=oai_dc', \\\n",
    "       width=970, height=300)"
   ]
  },
  {
   "cell_type": "markdown",
   "metadata": {},
   "source": [
    "Because of this, access metadata in bulk directly from the OAI interface is a bit more complex. With `retrieve_set_metadata()` we create a function to **retrieve metadata records of a set** and save the XML files into a created folder. As the e-periodica IDs aren't suitable for file names, the downloaded files will be serially numbered. \n",
    "\n",
    "**WARNING:** Mind, that entire sets of e-periodica are large! You might rather limit the number of records to download. therefore, a default value of 50 records will be defined in the function."
   ]
  },
  {
   "cell_type": "code",
   "execution_count": 41,
   "metadata": {},
   "outputs": [],
   "source": [
    "def retrieve_set_metadata(Set, foldername, max_records=50):\n",
    "    '''\n",
    "    Downloads metadata records of a given set from OAI to XML files in a certain folder structure.\n",
    "    Therefore it\n",
    "    * creates a folder to hold the records\n",
    "    * requests e-periodica OAI-PMH interface according to a set \n",
    "    * retrieves the set's e-periodica IDs\n",
    "    * downloads Dublin Core metadata records according to IDs\n",
    "    * writes them into single serially numbered XML files in the folder.\n",
    "    Parameters:\n",
    "    Set = The desired OAI set.\n",
    "    foldername = name of the folder in which the records will be stored.\n",
    "    max_records = (Maximum) Number of records to retrieve. Default value is 50.\n",
    "    '''\n",
    "    start = time.perf_counter()\n",
    "    number = 0\n",
    "\n",
    "    # Set parameters to the interface\n",
    "    base_url = oai\n",
    "    recordsearch_term = {'verb': 'GetRecord', 'metadataPrefix': 'oai_dc'}\n",
    "    listsearch_term = {'verb': 'ListIdentifiers', 'metadataPrefix': 'oai_dc', 'set': Set}\n",
    "    \n",
    "    # Make a folder for the files named according to parameter 'foldername'\n",
    "    path = os.getcwd() + '/' + foldername\n",
    "    try:\n",
    "        os.makedirs(path, exist_ok = True)\n",
    "        print(\"Path {} is already available or created successfully\".format(path))\n",
    "    except OSError as error:\n",
    "        print(\"Path {} can not be created\".format(path))\n",
    "    \n",
    "        \n",
    "    # Basic functions\n",
    "    def load_xml(params):\n",
    "        '''\n",
    "        Accesses the OAI interface according to given parameters and scrapes its content.\n",
    "        Parameters:\n",
    "        All available native OAI verbs and parameter/value pairs.\n",
    "        '''\n",
    "        response = requests.get(base_url, params=params)\n",
    "        output_soup = soup(response.content, \"lxml\")\n",
    "        return output_soup\n",
    "\n",
    "    def download_record(ID):\n",
    "        '''\n",
    "        Downloads a certain metadata record from OAI to a single XML file.\n",
    "        Throws a notice if metadata file already exists and leaves the existing one.\n",
    "        Parameter:\n",
    "        ID = E-periodica ID of the desired record.\n",
    "        '''\n",
    "        output_soup = load_xml({'verb': 'GetRecord', 'metadataPrefix': 'oai_dc', 'identifier': ID})\n",
    "        outfile = path + '/{}.xml'.format(number) \n",
    "        try:\n",
    "            with open(outfile, mode='x', encoding='utf-8') as f:\n",
    "                    f.write(output_soup.decode())\n",
    "        except FileExistsError:\n",
    "                print(\"Metadata file {}.xml exists already\".format(number))\n",
    "        finally:\n",
    "                pass\n",
    "\n",
    "    # Start with the first access to OAI interface - get the item IDs of a set\n",
    "    xml_soup = load_xml(listsearch_term)\n",
    "    \n",
    "\n",
    "    while xml_soup.find('resumptiontoken') and number <= max_records:\n",
    "        if number == 0:\n",
    "            # First access for item IDs - first page\n",
    "            xml_soup_new = load_xml(listsearch_term)      \n",
    "        else:\n",
    "            # Following accesses for item IDs\n",
    "            xml_soup_new = load_xml({'verb': 'ListIdentifiers', 'resumptionToken': resumption_token})\n",
    "\n",
    "        # Scraping out the e-periodica IDs\n",
    "        ids = [] \n",
    "        for ID in [(i.contents[0]) for i in xml_soup_new.find_all('identifier')]:\n",
    "            ids.append(ID)\n",
    "\n",
    "        # Download the metadata records according to retrieved e-periodica IDs\n",
    "        print('Retrieving metadata for e-periodica IDs')  \n",
    "        for ID in ids:\n",
    "            number += 1\n",
    "            if number <= max_records:\n",
    "                download_record(ID)\n",
    "            else: pass\n",
    "        ids = []\n",
    "\n",
    "        # Actualize the resumtpion token to retrieve the the next page\n",
    "        try:\n",
    "            new_token = xml_soup.find('resumptiontoken').get_text()\n",
    "            resumption_token = new_token\n",
    "            print('New resumption token:', resumption_token)\n",
    "        except AttributeError:\n",
    "            print('Reached end of IDs/results list')       # notice when last page is accessed\n",
    "        finally:\n",
    "            pass\n",
    "\n",
    "    with os.scandir(path) as entries:\n",
    "        count = 0\n",
    "        for entry in entries:\n",
    "            count += 1       \n",
    "    print(\"{} metadata files in {}\".format(count, path))\n",
    "    finish = time.perf_counter()\n",
    "    print(\"Finished in {} second(s)\".format(round(finish - start, 2)))"
   ]
  },
  {
   "cell_type": "code",
   "execution_count": 42,
   "metadata": {},
   "outputs": [
    {
     "name": "stdout",
     "output_type": "stream",
     "text": [
      "Path C:\\Users\\kwoit\\Documents\\GitHub\\ds-pytools\\web-tools\\e-periodica-access\\data\\metadata/DDC_370 is already available or created successfully\n",
      "Retrieving metadata for e-periodica IDs\n",
      "New resumption token: SETddc:370ID41517\n",
      "10 metadata files in C:\\Users\\kwoit\\Documents\\GitHub\\ds-pytools\\web-tools\\e-periodica-access\\data\\metadata/DDC_370\n",
      "Finished in 2.63 second(s)\n"
     ]
    }
   ],
   "source": [
    "# Just choose the appropriate set short cut, the desired folder name and the number of records\n",
    "retrieve_set_metadata('ddc:370', 'DDC_370', 10)"
   ]
  },
  {
   "cell_type": "markdown",
   "metadata": {},
   "source": [
    "## 3 Download fulltext files from e-periodica website"
   ]
  },
  {
   "cell_type": "markdown",
   "metadata": {},
   "source": [
    "### 3.0 Prerequisites"
   ]
  },
  {
   "cell_type": "code",
   "execution_count": 43,
   "metadata": {},
   "outputs": [
    {
     "name": "stdout",
     "output_type": "stream",
     "text": [
      "Successfully imported necessary libraries\n"
     ]
    }
   ],
   "source": [
    "# Load the necessary libraries\n",
    "import requests                                 # request URLs\n",
    "import urllib.request                           # open URLs, e.g. PDF files on URLs\n",
    "\n",
    "#!pip install pypdf2\n",
    "from PyPDF2 import PdfFileReader                # read out technical metadata from PDFs\n",
    "\n",
    "from bs4 import BeautifulSoup as soup           # webscrape and parse HTML and XML\n",
    "import lxml                                     # XML parser supported by bs4\n",
    "                                                # call with soup(markup, 'lxml-xml' OR 'xml')\n",
    "import os                                       # navigate and manipulate file directories\n",
    "import time                                     # work with time stamps\n",
    "import json                                     # work with JSON data structures\n",
    "import pandas as pd                             # pandas is the Python standard library to work with dataframes\n",
    "from IPython.display import IFrame              # embed website views in jupyter notebook\n",
    "import math                                     # work with mathematical functions\n",
    "import re                                       # work with regular expressions\n",
    "print(\"Successfully imported necessary libraries\")"
   ]
  },
  {
   "cell_type": "markdown",
   "metadata": {},
   "source": [
    "https://www.e-periodica.ch/oai/ will be the **base URL** for all OAI requests. To make life easier we put it into the variable `oai`."
   ]
  },
  {
   "cell_type": "code",
   "execution_count": 44,
   "metadata": {},
   "outputs": [],
   "source": [
    "oai = 'https://www.e-periodica.ch/oai/'"
   ]
  },
  {
   "cell_type": "markdown",
   "metadata": {},
   "source": [
    "### 3.1 Download fulltext files by e-periodica ID"
   ]
  },
  {
   "cell_type": "markdown",
   "metadata": {},
   "source": [
    "Downloading e-periodica fulltetxts can be done from the e-periodica website. Fulltext is currently only available via PDF format."
   ]
  },
  {
   "cell_type": "code",
   "execution_count": 45,
   "metadata": {},
   "outputs": [
    {
     "data": {
      "text/html": [
       "\n",
       "        <iframe\n",
       "            width=\"970\"\n",
       "            height=\"600\"\n",
       "            src=\"https://www.e-periodica.ch/cntmng?type=pdf&pid=act-001:1946:3::626\"\n",
       "            frameborder=\"0\"\n",
       "            allowfullscreen\n",
       "        ></iframe>\n",
       "        "
      ],
      "text/plain": [
       "<IPython.lib.display.IFrame at 0x1a2811e6130>"
      ]
     },
     "execution_count": 45,
     "metadata": {},
     "output_type": "execute_result"
    }
   ],
   "source": [
    "IFrame('https://www.e-periodica.ch/cntmng?type=pdf&pid=act-001:1946:3::626', width=970, height=600)"
   ]
  },
  {
   "cell_type": "markdown",
   "metadata": {},
   "source": [
    "At first, next to the `metadata` folder a new directory `fulltexts`will be created."
   ]
  },
  {
   "cell_type": "code",
   "execution_count": 46,
   "metadata": {},
   "outputs": [
    {
     "name": "stdout",
     "output_type": "stream",
     "text": [
      "C:\\Users\\kwoit\\Documents\\GitHub\\ds-pytools\\web-tools\\e-periodica-access\\data\\metadata\n"
     ]
    }
   ],
   "source": [
    "print(os.getcwd())                                # print current working directory"
   ]
  },
  {
   "cell_type": "markdown",
   "metadata": {},
   "source": [
    "In case you might change your directory you can easily do this with `os.chdir` or `os.chdir(os.pardir)`. While `os.chdir()` changes the working directory to a subdirectory, `os.chdir(os.pardir)` will change it to the parent directory."
   ]
  },
  {
   "cell_type": "code",
   "execution_count": 47,
   "metadata": {},
   "outputs": [],
   "source": [
    "os.chdir(os.pardir)                               # change to parent directory\n",
    "os.makedirs('fulltexts', exist_ok=True)           # make new folder 'fulltexts'\n",
    "os.chdir('fulltexts')                             # change to 'fulltexts' folder"
   ]
  },
  {
   "cell_type": "markdown",
   "metadata": {},
   "source": [
    "A single fulltext file can be retrieved by a given e-periodica ID with the following function `download_fulltext()`. Note that **for fulltexts a different base URL** - in combination with the given e-periodica ID - has to be used: `https://www.e-periodica.ch/cntmng?type=pdf&pid=`. Since e-periodica IDs don't make a suitable fulltext filename, you have to choose one manually."
   ]
  },
  {
   "cell_type": "code",
   "execution_count": 48,
   "metadata": {},
   "outputs": [],
   "source": [
    "def download_fulltext(ID, filename):\n",
    "    '''\n",
    "    Downloads the PDF file of a certain e-periodica document by its ID.\n",
    "    Builds with e-periodica ID the fulltext URL, and saves the PDF file on local disk.\n",
    "    Parameters:\n",
    "    ID = E-periodica ID of the desired fulltext/PDF file.\n",
    "    filename = The file name to choose for the retrieved PDF file.\n",
    "    '''\n",
    "    baseurl_fulltext = \"https://www.e-periodica.ch/cntmng?type=pdf&pid=\"\n",
    "    pdf_url = baseurl_fulltext + str(ID)\n",
    "    response = urllib.request.urlopen(pdf_url)\n",
    "    outfile = '{}.pdf'.format(filename)\n",
    "    \n",
    "    try:\n",
    "        with open(outfile, 'wb') as f:\n",
    "            f.write(response.read())\n",
    "            print(\"Fulltext file {} saved\".format(outfile))\n",
    "    except FileExistsError:\n",
    "        print(\"Fulltext file {} exists already\".format(outfile))\n",
    "    except:\n",
    "        print(\"Saving fulltext file {} failed\".format(outfile))\n",
    "    finally:\n",
    "        pass"
   ]
  },
  {
   "cell_type": "code",
   "execution_count": 49,
   "metadata": {},
   "outputs": [
    {
     "name": "stdout",
     "output_type": "stream",
     "text": [
      "Fulltext file tropenkaufleute.pdf saved\n"
     ]
    }
   ],
   "source": [
    "# Retrieving example PDF with e-periodica ID\n",
    "download_fulltext('act-001:1946:3::626', 'tropenkaufleute')"
   ]
  },
  {
   "cell_type": "markdown",
   "metadata": {},
   "source": [
    "We might then read the technical metadata of the PDF file from local disk by defining a small funtion called `tech_metadata`."
   ]
  },
  {
   "cell_type": "code",
   "execution_count": 50,
   "metadata": {},
   "outputs": [],
   "source": [
    "def tech_metadata(pdf_path):\n",
    "    '''\n",
    "    Reads the technical metadata of a PDF formatted file and prints a summary.\n",
    "    Parameters:\n",
    "    pdf_path = The path of the PDF file to be read.   \n",
    "    '''\n",
    "    with open(pdf_path, 'rb') as f:\n",
    "        pdf = PdfFileReader(f)\n",
    "        information = pdf.getDocumentInfo()\n",
    "        number_of_pages = pdf.getNumPages()\n",
    "        \n",
    "    txt = f\"\"\"\n",
    "    Information about {pdf_path}: \n",
    "\n",
    "    Author: {information.author}\n",
    "    Title: {information.title}\n",
    "    Subject: {information.subject}\n",
    "    Number of pages: {number_of_pages}\n",
    "    Creator: {information.creator}\n",
    "    Producer: {information.producer}\n",
    "    \"\"\"\n",
    "    print(txt)"
   ]
  },
  {
   "cell_type": "code",
   "execution_count": 51,
   "metadata": {},
   "outputs": [
    {
     "name": "stdout",
     "output_type": "stream",
     "text": [
      "\n",
      "    Information about tropenkaufleute.pdf: \n",
      "\n",
      "    Author: Bodmer, Walter\n",
      "    Title: Schweizer Tropenkaufleute und Plantagenbesitzer in Niederländisch-Westindien im 18. und zu Beginn des 19. Jahrhunderts\n",
      "    Subject: None\n",
      "    Number of pages: 34\n",
      "    Creator: Retroseals PDF-Generator\n",
      "    Producer: DynamicPDF for Java v4.0.3\n",
      "    \n"
     ]
    }
   ],
   "source": [
    "tech_metadata('tropenkaufleute.pdf')"
   ]
  },
  {
   "cell_type": "markdown",
   "metadata": {},
   "source": [
    "### 3.2 Download fulltext files by set"
   ]
  },
  {
   "cell_type": "markdown",
   "metadata": {},
   "source": [
    "Finally, let's build a function `retrieve_set_fulltexts` to **retrieve fulltexts of a certain e-periodica set**.\n",
    "\n",
    "**WARNING**: As with the metadata records, fulltext sets of e-periodica are large, so it's a good idea to limit the number of fulltexts to download. The default number of fulltexts in the function will be 20. Of course, you can also change that easily."
   ]
  },
  {
   "cell_type": "markdown",
   "metadata": {},
   "source": [
    "In case you might change your directory you can easily do this with `os.chdir` or `os.chdir(os.pardir)`. While `os.chdir()` changes the working directory to a subdirectory, `os.chdir(os.pardir)` will change it to the parent directory."
   ]
  },
  {
   "cell_type": "code",
   "execution_count": 52,
   "metadata": {},
   "outputs": [
    {
     "name": "stdout",
     "output_type": "stream",
     "text": [
      "C:\\Users\\kwoit\\Documents\\GitHub\\ds-pytools\\web-tools\\e-periodica-access\\data\\fulltexts\n"
     ]
    }
   ],
   "source": [
    "print(os.getcwd()) "
   ]
  },
  {
   "cell_type": "code",
   "execution_count": 53,
   "metadata": {},
   "outputs": [],
   "source": [
    "def retrieve_set_fulltexts(Set, foldername, max_fulltexts=20):\n",
    "    '''\n",
    "    Downloads PDF fulltexts of a given DDC set from e-periodica website to files in a certain folder.\n",
    "    Therefore it\n",
    "    * creates the folder according to the parameter foldername\n",
    "    * requests e-periodica OAI-PMH interface according to a OAI set \n",
    "    * retrieves the set's e-periodica IDs\n",
    "    * downloads PDF fulltexts according to IDs from e-periodica website\n",
    "    Parameters:\n",
    "    Set = The desired OAI set.\n",
    "    foldername = name of the folder in which the fulltexts will be stored.\n",
    "    max_fulltext = (Maximum) Number of fulltexts to retrieve. Default value is 20.\n",
    "    '''\n",
    "    start = time.perf_counter()\n",
    "    number = 0\n",
    "\n",
    "    # Set parameters to the interface\n",
    "    base_url = oai\n",
    "    baseurl_fulltext = \"https://www.e-periodica.ch/cntmng?type=pdf&pid=\"\n",
    "    listsearch_term = {'verb': 'ListIdentifiers', 'metadataPrefix': 'oai_dc', 'set': Set}\n",
    "    \n",
    "    # Make a folder <foldername> to store files in it\n",
    "    directory = foldername\n",
    "    parent_dir = os.getcwd()\n",
    "    path = os.path.join(parent_dir, directory)\n",
    "    try:\n",
    "        os.makedirs(path, exist_ok = True)\n",
    "        print('Path {} is already available or created successfully'.format(path))\n",
    "    except OSError as error:\n",
    "        print('Path {} could not be created'.format(path))\n",
    "           \n",
    "    # Basic functions\n",
    "    def load_xml(params):\n",
    "        '''\n",
    "        Accesses the OAI interface according to given parameters and scrapes its content.\n",
    "        '''\n",
    "        response = requests.get(base_url, params=params)\n",
    "        output_soup = soup(response.content, \"lxml\")\n",
    "        return output_soup\n",
    "\n",
    "    def download_fulltext(ID):\n",
    "        '''\n",
    "        Downloads the PDF file of a certain e-periodica document by its ID.\n",
    "        Builds with e-periodica ID the fulltext URL, and saves the PDF file on local disk.\n",
    "        Parameter:\n",
    "        ID = E-periodica ID of the desired fulltext/PDF file.\n",
    "        '''\n",
    "        pdf_url = baseurl_fulltext + str(ID)\n",
    "        response = urllib.request.urlopen(pdf_url)\n",
    "        outfile = path + '/{}.pdf'.format(number)\n",
    "        try:\n",
    "            with open(outfile, 'wb') as f:\n",
    "                f.write(response.read())\n",
    "                #print(\"Fulltext file {}.pdf saved\".format(number))\n",
    "        except FileExistsError:\n",
    "            print(\"Fulltext file {}.pdf exists already\".format(number))\n",
    "        except:\n",
    "            print(\"Saving fulltext file {}.pdf failed\".format(number))\n",
    "        finally:\n",
    "            pass\n",
    "            \n",
    "    # Start with the first access to OAI interface\n",
    "    xml_soup = load_xml(listsearch_term)\n",
    "\n",
    "    while xml_soup.find('resumptiontoken') and number <= max_fulltexts:\n",
    "        if number == 0:\n",
    "            # First access for item IDs - first page\n",
    "            xml_soup_new = load_xml(listsearch_term)      \n",
    "        else:\n",
    "            # Following accesses for item IDs\n",
    "            xml_soup_new = load_xml({'verb': 'ListIdentifiers', 'resumptionToken': resumption_token})\n",
    "\n",
    "        # Scraping out the e-periodica IDs\n",
    "        ids = [] \n",
    "        for ID in [(i.contents[0]) for i in xml_soup_new.find_all('identifier')]:\n",
    "            match = re.search('oai:agora.ch:(\\w{3}-\\d{3}:\\d{4}:\\d+::\\d+)', ID)    # extract the string following 'oai:agora.ch:'\n",
    "            if match:\n",
    "                ids.append(match.group(1))       # first parenthesized subgroup of group() = number\n",
    "\n",
    "        # Download the fulltext files according to retrieved e-periodica IDs\n",
    "        print('Retrieving PDF fulltexts for e-periodica IDs')  \n",
    "        for ID in ids:\n",
    "            number += 1\n",
    "            if number <= max_fulltexts:\n",
    "                download_fulltext(ID)\n",
    "            else: pass\n",
    "        ids = []\n",
    "\n",
    "        # Actualize the resumption token to retrieve the the next page\n",
    "        try:\n",
    "            new_token = xml_soup_new.find('resumptiontoken').get_text()\n",
    "            resumption_token = new_token\n",
    "            print('New resumption token:', resumption_token)\n",
    "        except AttributeError:\n",
    "            print('Reached end of IDs/results list')       # notice when last results page is accessed\n",
    "        finally:\n",
    "            pass\n",
    "    \n",
    "    count = 0\n",
    "    with os.scandir(path) as entries: \n",
    "        for entry in entries:\n",
    "            count += 1  \n",
    "    print(\"{} fulltext files in {}\".format(count, path))\n",
    "    finish = time.perf_counter()\n",
    "    print(\"Finished in {} second(s)\".format(round(finish - start, 2)))\n",
    "    "
   ]
  },
  {
   "cell_type": "code",
   "execution_count": 54,
   "metadata": {},
   "outputs": [
    {
     "data": {
      "text/plain": [
       "'C:\\\\Users\\\\kwoit\\\\Documents\\\\GitHub\\\\ds-pytools\\\\web-tools\\\\e-periodica-access\\\\data\\\\fulltexts'"
      ]
     },
     "execution_count": 54,
     "metadata": {},
     "output_type": "execute_result"
    }
   ],
   "source": [
    "os.getcwd()"
   ]
  },
  {
   "cell_type": "code",
   "execution_count": 55,
   "metadata": {
    "scrolled": true
   },
   "outputs": [
    {
     "name": "stdout",
     "output_type": "stream",
     "text": [
      "Path C:\\Users\\kwoit\\Documents\\GitHub\\ds-pytools\\web-tools\\e-periodica-access\\data\\fulltexts\\DDC_450 is already available or created successfully\n",
      "Retrieving PDF fulltexts for e-periodica IDs\n",
      "New resumption token: SETddc:450ID52220\n",
      "10 fulltext files in C:\\Users\\kwoit\\Documents\\GitHub\\ds-pytools\\web-tools\\e-periodica-access\\data\\fulltexts\\DDC_450\n",
      "Finished in 28.08 second(s)\n"
     ]
    }
   ],
   "source": [
    "retrieve_set_fulltexts('ddc:450', 'DDC_450', 10)"
   ]
  },
  {
   "cell_type": "markdown",
   "metadata": {},
   "source": [
    "You can easily check the technical metadata of the downloaded PDF files."
   ]
  },
  {
   "cell_type": "code",
   "execution_count": 56,
   "metadata": {},
   "outputs": [
    {
     "name": "stdout",
     "output_type": "stream",
     "text": [
      "\n",
      "    Information about <DirEntry '1.pdf'>: \n",
      "\n",
      "    Author: Bühler, J.A.\n",
      "    Title: Notizias historicas sur l'origin della Societad Rhaeto-romana\n",
      "    Subject: None\n",
      "    Number of pages: 38\n",
      "    Creator: Retroseals PDF-Generator\n",
      "    Producer: DynamicPDF for Java v4.0.3\n",
      "    \n",
      "\n",
      "    Information about <DirEntry '10.pdf'>: \n",
      "\n",
      "    Author: Kuoni, M.\n",
      "    Title: Restanzas dil lungatg romonsch en las valladas della Landquard e della Plessur (Vall Portenza, Scanvitg ed entginas confinontas)\n",
      "    Subject: None\n",
      "    Number of pages: 4\n",
      "    Creator: Retroseals PDF-Generator\n",
      "    Producer: DynamicPDF for Java v4.0.3\n",
      "    \n",
      "\n",
      "    Information about <DirEntry '2.pdf'>: \n",
      "\n",
      "    Author: Bühler, J.A.\n",
      "    Title: L'uniun dels dialects raetho-romans : (Referat per la prima radunanza quartala della Societad Rhaeto-romana, il 21 d. Schanèr 1886)\n",
      "    Subject: None\n",
      "    Number of pages: 24\n",
      "    Creator: Retroseals PDF-Generator\n",
      "    Producer: DynamicPDF for Java v4.0.3\n",
      "    \n",
      "\n",
      "    Information about <DirEntry '3.pdf'>: \n",
      "\n",
      "    Author: Vieli, Balth.\n",
      "    Title: Entgins manuscripts de poesias popularas : (Referat tenius ella Societad Rhaeto-romonscha ils 15 d'Avril 1886)\n",
      "    Subject: None\n",
      "    Number of pages: 27\n",
      "    Creator: Retroseals PDF-Generator\n",
      "    Producer: DynamicPDF for Java v4.0.3\n",
      "    \n",
      "\n",
      "    Information about <DirEntry '4.pdf'>: \n",
      "\n",
      "    Author: [s.n.]\n",
      "    Title: Protochol dilg ludeivel Cosselg d'Ujarra : pro anno 1798-1799\n",
      "    Subject: None\n",
      "    Number of pages: 27\n",
      "    Creator: Retroseals PDF-Generator\n",
      "    Producer: DynamicPDF for Java v4.0.3\n",
      "    \n",
      "\n",
      "    Information about <DirEntry '5.pdf'>: \n",
      "\n",
      "    Author: [s.n.]\n",
      "    Title: Protochol dilg lud. Corps de Chitschadurs\n",
      "    Subject: None\n",
      "    Number of pages: 27\n",
      "    Creator: Retroseals PDF-Generator\n",
      "    Producer: DynamicPDF for Java v4.0.3\n",
      "    \n",
      "\n",
      "    Information about <DirEntry '6.pdf'>: \n",
      "\n",
      "    Author: Muoth\n",
      "    Title: La veglia republica grischuna : sia organisaziun e sias relaziuns viers la fin dil davos secul\n",
      "    Subject: None\n",
      "    Number of pages: 35\n",
      "    Creator: Retroseals PDF-Generator\n",
      "    Producer: DynamicPDF for Java v4.0.3\n",
      "    \n",
      "\n",
      "    Information about <DirEntry '7.pdf'>: \n",
      "\n",
      "    Author: Muoth\n",
      "    Title: Il general Cristoffel Schmid : de Grüneck a Glion, 1730\n",
      "    Subject: None\n",
      "    Number of pages: 33\n",
      "    Creator: Retroseals PDF-Generator\n",
      "    Producer: DynamicPDF for Java v4.0.3\n",
      "    \n",
      "\n",
      "    Information about <DirEntry '8.pdf'>: \n",
      "\n",
      "    Author: Bühler, J.A.\n",
      "    Title: Gianin e Marinella\n",
      "    Subject: None\n",
      "    Number of pages: 67\n",
      "    Creator: Retroseals PDF-Generator\n",
      "    Producer: DynamicPDF for Java v4.0.3\n",
      "    \n",
      "\n",
      "    Information about <DirEntry '9.pdf'>: \n",
      "\n",
      "    Author: Tramêr, Gian\n",
      "    Title: La streda sur la muntagna del Fuorn\n",
      "    Subject: None\n",
      "    Number of pages: 14\n",
      "    Creator: Retroseals PDF-Generator\n",
      "    Producer: DynamicPDF for Java v4.0.3\n",
      "    \n"
     ]
    }
   ],
   "source": [
    "path = os.path.join(os.getcwd(), 'DDC_450')\n",
    "with os.scandir(path) as entries:\n",
    "    [tech_metadata(entry) for entry in entries]"
   ]
  }
 ],
 "metadata": {
  "kernelspec": {
   "display_name": "Python 3",
   "language": "python",
   "name": "python3"
  },
  "language_info": {
   "codemirror_mode": {
    "name": "ipython",
    "version": 3
   },
   "file_extension": ".py",
   "mimetype": "text/x-python",
   "name": "python",
   "nbconvert_exporter": "python",
   "pygments_lexer": "ipython3",
   "version": "3.8.5"
  },
  "toc": {
   "base_numbering": "0",
   "nav_menu": {},
   "number_sections": false,
   "sideBar": false,
   "skip_h1_title": true,
   "title_cell": "",
   "title_sidebar": "Contents",
   "toc_cell": true,
   "toc_position": {
    "height": "47.05px",
    "left": "951px",
    "top": "110.233px",
    "width": "158.367px"
   },
   "toc_section_display": false,
   "toc_window_display": true
  }
 },
 "nbformat": 4,
 "nbformat_minor": 4
}
